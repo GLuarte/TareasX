{
  "nbformat": 4,
  "nbformat_minor": 0,
  "metadata": {
    "colab": {
      "name": "TareaDSP (B&G)",
      "provenance": [],
      "collapsed_sections": [],
      "authorship_tag": "ABX9TyONj8Z16WoVZ5Swr1x3u9yw",
      "include_colab_link": true
    },
    "kernelspec": {
      "name": "python3",
      "display_name": "Python 3"
    }
  },
  "cells": [
    {
      "cell_type": "markdown",
      "metadata": {
        "id": "view-in-github",
        "colab_type": "text"
      },
      "source": [
        "<a href=\"https://colab.research.google.com/github/GLuarte/TareasX/blob/master/TareaDSP_(B%26G).ipynb\" target=\"_parent\"><img src=\"https://colab.research.google.com/assets/colab-badge.svg\" alt=\"Open In Colab\"/></a>"
      ]
    },
    {
      "cell_type": "markdown",
      "metadata": {
        "id": "I8-YcCxdJvOf",
        "colab_type": "text"
      },
      "source": [
        "## DSP \n",
        "#### TAREA B&G\n",
        "##### GONZALO LUARTE / RODRIGO SAAVEDRA / ISIDORA SANHUEZA"
      ]
    },
    {
      "cell_type": "code",
      "metadata": {
        "id": "yxnMUWn2TkzB",
        "colab_type": "code",
        "colab": {}
      },
      "source": [
        "import numpy as np\n",
        "import pandas as pd"
      ],
      "execution_count": 0,
      "outputs": []
    },
    {
      "cell_type": "code",
      "metadata": {
        "id": "iNAlJpuuf8Ks",
        "colab_type": "code",
        "colab": {}
      },
      "source": [
        "url1='https://raw.githubusercontent.com/GLuarte/TareasX/master/DspCSV1.csv'"
      ],
      "execution_count": 0,
      "outputs": []
    },
    {
      "cell_type": "code",
      "metadata": {
        "id": "oD4xeOkYZAcK",
        "colab_type": "code",
        "colab": {}
      },
      "source": [
        " def dataF_maker(src,ind,col,dataf,nc1,nc2): \n",
        "  dataf=pd.DataFrame(src,index=ind,columns=col)\n",
        "  sumas=[]\n",
        "  wi=[]\n",
        "  suma=0\n",
        "  for i in (dataf):\n",
        "    for j in (dataf):\n",
        "      suma+=dataf[j][i]\n",
        "    sumas.append(suma)\n",
        "    suma=0\n",
        "  for i in sumas:\n",
        "    wi.append(i/sum(sumas))\n",
        "\n",
        "  dataf.insert(3,nc1,sumas)\n",
        "  dataf.insert(4,nc2,wi)\n",
        "  return dataf"
      ],
      "execution_count": 0,
      "outputs": []
    },
    {
      "cell_type": "code",
      "metadata": {
        "id": "KyMGZlf-L-rr",
        "colab_type": "code",
        "colab": {}
      },
      "source": [
        "def matrix_fill(matrix,txt,A,B):\n",
        "  matrix=np.zeros((3,3),dtype=int)\n",
        "  for i in range (3):\n",
        "    for j in range(3):\n",
        "      if i==j:\n",
        "        matrix[i][j]=0\n",
        "      else:\n",
        "        print('ingrese ',txt,'entre',A[i],'y',B[j] )\n",
        "        x=int(input())\n",
        "        while x!=0 and x!=1:\n",
        "          print('el valor debe ser 0 o 1, ingrese nuevamente')\n",
        "          x=int(input())\n",
        "        matrix[i][j]=(x)\n",
        "  return np.array(matrix)"
      ],
      "execution_count": 0,
      "outputs": []
    },
    {
      "cell_type": "code",
      "metadata": {
        "id": "hQ0y5gx0UC4r",
        "colab_type": "code",
        "colab": {}
      },
      "source": [
        "c=['AM','DS','IV']\n",
        "loc=['A','B','C']"
      ],
      "execution_count": 0,
      "outputs": []
    },
    {
      "cell_type": "code",
      "metadata": {
        "id": "6sFB15b_f-QZ",
        "colab_type": "code",
        "outputId": "90ec10a9-bdd9-4720-da2c-132bde3c5bee",
        "colab": {
          "base_uri": "https://localhost:8080/",
          "height": 105
        }
      },
      "source": [
        "dc=pd.read_csv(url1,index_col=0)\n",
        "print(dc)"
      ],
      "execution_count": 6,
      "outputs": [
        {
          "output_type": "stream",
          "text": [
            "     Mano de obra  Materia prima  Transporte  Distribucion  Gastos Generales\n",
            "Loc                                                                         \n",
            "A             100             50          45            50               100\n",
            "B              50             55          75            60               100\n",
            "C              75             45          35            50               100\n"
          ],
          "name": "stdout"
        }
      ]
    },
    {
      "cell_type": "code",
      "metadata": {
        "id": "Bf4q5d3-mMiz",
        "colab_type": "code",
        "outputId": "f046f2f0-5cae-415f-f7c6-434b85f5781a",
        "colab": {
          "base_uri": "https://localhost:8080/",
          "height": 140
        }
      },
      "source": [
        "suma1=[]\n",
        "wi=[]\n",
        "suma=0\n",
        "for j in dc.index:\n",
        "  for i in dc:\n",
        "    suma+=dc[i][j]\n",
        "  suma1.append(suma)\n",
        "  suma=0\n",
        "dc.insert(5,'Ci',suma1)\n",
        "for i in suma1:\n",
        "  wi.append(1/i)\n",
        "suma=sum(wi)\n",
        "suma1.clear()\n",
        "for i in wi:\n",
        "  suma1.append(i/suma)\n",
        "\n",
        "dc.insert(6,'1/C',wi)\n",
        "dc.insert(7,'FO',suma1)\n",
        "print(dc)"
      ],
      "execution_count": 7,
      "outputs": [
        {
          "output_type": "stream",
          "text": [
            "     Mano de obra  Materia prima  Transporte  ...   Ci       1/C        FO\n",
            "Loc                                           ...                         \n",
            "A             100             50          45  ...  345  0.002899  0.317879\n",
            "B              50             55          75  ...  340  0.002941  0.322553\n",
            "C              75             45          35  ...  305  0.003279  0.359568\n",
            "\n",
            "[3 rows x 8 columns]\n"
          ],
          "name": "stdout"
        }
      ]
    },
    {
      "cell_type": "code",
      "metadata": {
        "id": "hcPjI4nAQOEF",
        "colab_type": "code",
        "colab": {
          "base_uri": "https://localhost:8080/",
          "height": 70
        },
        "outputId": "637cfd76-ebd2-47c6-fac5-606874eaf64b"
      },
      "source": [
        " print('Usar programa en modo testeo (valores del ejemplo de clase) type (1)\\n',\n",
        "  'Usar el programa modo manual(valores de tablas ingresados por usuario) type (2)' ) \n",
        " y=int(input())\n",
        " if(y==1):\n",
        "  factS=np.array([[0,1,1],[0,0,1],[1,0,0]])\n",
        "  cpMA=np.array([[0,1,0],[1,0,0],[1,1,0]])\n",
        "  cpDS=np.array([[0,1,1],[1,0,1],[1,1,0]])\n",
        "  cpIV=np.array([[0,1,0],[1,0,1],[1,0,0]])\n",
        " elif(y==2):\n",
        "  factS=[];cpMA=[];cpDS=[];cpIV=[]\n",
        "  factS=matrix_fill(factS,'factores subjetivos',c,c)\n",
        "  cpMA=matrix_fill(factS,'comparacion pareada de medioambiente',loc,loc)\n",
        "  cpDS=matrix_fill(factS,'comparacion pareada de disponibilidad de servcios',\n",
        "                  loc,loc)\n",
        "  cpIV=matrix_fill(factS,'comparacion pareada de infraestructura vial',loc,loc)"
      ],
      "execution_count": 8,
      "outputs": [
        {
          "output_type": "stream",
          "text": [
            "Usar programa en modo testeo (valores del ejemplo de clase) type (1)\n",
            " Usar el programa modo manual(valores de tablas ingresados por usuario) type (2)\n",
            "1\n"
          ],
          "name": "stdout"
        }
      ]
    },
    {
      "cell_type": "code",
      "metadata": {
        "id": "BLToI824dVxI",
        "colab_type": "code",
        "outputId": "a5b3202d-cf7c-422b-f0f9-a9f9ed75abed",
        "colab": {
          "base_uri": "https://localhost:8080/",
          "height": 87
        }
      },
      "source": [
        "dfactS=pd.DataFrame()\n",
        "dfactS=dataF_maker(factS,c,c,dfactS,'suma prefe','Wi')\n",
        "print(dfactS)"
      ],
      "execution_count": 9,
      "outputs": [
        {
          "output_type": "stream",
          "text": [
            "    AM  DS  IV  suma prefe    Wi\n",
            "AM   0   1   1           2  0.50\n",
            "DS   0   0   1           1  0.25\n",
            "IV   1   0   0           1  0.25\n"
          ],
          "name": "stdout"
        }
      ]
    },
    {
      "cell_type": "code",
      "metadata": {
        "id": "vt873lQRb27H",
        "colab_type": "code",
        "outputId": "6ba80424-b5cf-46b7-df14-21ee88020250",
        "colab": {
          "base_uri": "https://localhost:8080/",
          "height": 87
        }
      },
      "source": [
        "dcpMA=pd.DataFrame()\n",
        "dcpMA=dataF_maker(cpMA,loc,loc,dcpMA,'suma','R1')\n",
        "print(dcpMA)"
      ],
      "execution_count": 10,
      "outputs": [
        {
          "output_type": "stream",
          "text": [
            "   A  B  C  suma    R1\n",
            "A  0  1  0     1  0.25\n",
            "B  1  0  0     1  0.25\n",
            "C  1  1  0     2  0.50\n"
          ],
          "name": "stdout"
        }
      ]
    },
    {
      "cell_type": "code",
      "metadata": {
        "id": "6TNVgJtHcjDa",
        "colab_type": "code",
        "outputId": "d46fa437-e4bb-46e0-a761-e1a6771c4841",
        "colab": {
          "base_uri": "https://localhost:8080/",
          "height": 87
        }
      },
      "source": [
        "dcpDS=pd.DataFrame()\n",
        "dcpDS=dataF_maker(cpDS,loc,loc,dcpDS,'suma','R2')\n",
        "print(dcpDS)"
      ],
      "execution_count": 11,
      "outputs": [
        {
          "output_type": "stream",
          "text": [
            "   A  B  C  suma        R2\n",
            "A  0  1  1     2  0.333333\n",
            "B  1  0  1     2  0.333333\n",
            "C  1  1  0     2  0.333333\n"
          ],
          "name": "stdout"
        }
      ]
    },
    {
      "cell_type": "code",
      "metadata": {
        "id": "jflMjeWhaOzp",
        "colab_type": "code",
        "outputId": "7e8ff579-cbcb-4380-beb5-5238fad03149",
        "colab": {
          "base_uri": "https://localhost:8080/",
          "height": 87
        }
      },
      "source": [
        "dcpIV=pd.DataFrame()\n",
        "dcpIV=dataF_maker(cpIV,loc,loc,dcpIV,'suma','R3')\n",
        "print(dcpIV)"
      ],
      "execution_count": 12,
      "outputs": [
        {
          "output_type": "stream",
          "text": [
            "   A  B  C  suma    R3\n",
            "A  0  1  0     1  0.25\n",
            "B  1  0  1     2  0.50\n",
            "C  1  0  0     1  0.25\n"
          ],
          "name": "stdout"
        }
      ]
    },
    {
      "cell_type": "code",
      "metadata": {
        "id": "6DEuEjR1tN_K",
        "colab_type": "code",
        "outputId": "37429bef-f7eb-4715-bf79-44db16d96b9b",
        "colab": {
          "base_uri": "https://localhost:8080/",
          "height": 87
        }
      },
      "source": [
        "Fsi=[]\n",
        "dFsi=pd.DataFrame()\n",
        "dFsi.insert(0,'R1',dcpMA['R1'])\n",
        "dFsi.insert(1,'W-MA',dfactS['Wi']['AM'])\n",
        "dFsi.insert(2,'R2',dcpDS['R2'])\n",
        "dFsi.insert(3,'W-DS',dfactS['Wi']['DS'])\n",
        "dFsi.insert(4,'R3',dcpIV['R3'])\n",
        "dFsi.insert(5,'W-IV',dfactS['Wi']['IV'])\n",
        "for i in dFsi.index:\n",
        "  Fsi.append(dFsi['R1'][i]*dFsi['W-MA'][i] + \n",
        "             dFsi['R2'][i]*dFsi['W-DS'][i] +\n",
        "             dFsi['R3'][i]*dFsi['W-IV'][i])\n",
        "dFsi.insert(6,'Fsi',Fsi)\n",
        "print(dFsi)"
      ],
      "execution_count": 13,
      "outputs": [
        {
          "output_type": "stream",
          "text": [
            "     R1  W-MA        R2  W-DS    R3  W-IV       Fsi\n",
            "A  0.25   0.5  0.333333  0.25  0.25  0.25  0.270833\n",
            "B  0.25   0.5  0.333333  0.25  0.50  0.25  0.333333\n",
            "C  0.50   0.5  0.333333  0.25  0.25  0.25  0.395833\n"
          ],
          "name": "stdout"
        }
      ]
    },
    {
      "cell_type": "code",
      "metadata": {
        "id": "l0et34gkydSt",
        "colab_type": "code",
        "outputId": "56107c33-ff6a-4039-b9e9-1ab3be14e31b",
        "colab": {
          "base_uri": "https://localhost:8080/",
          "height": 35
        }
      },
      "source": [
        "k = float(input())\n",
        "while k<0 and k>1:\n",
        "  k = float(input())"
      ],
      "execution_count": 14,
      "outputs": [
        {
          "output_type": "stream",
          "text": [
            ".9\n"
          ],
          "name": "stdout"
        }
      ]
    },
    {
      "cell_type": "code",
      "metadata": {
        "id": "FED6wzEtyq-q",
        "colab_type": "code",
        "outputId": "6f1ef361-26ac-4e56-ea11-1bc77d1d3c68",
        "colab": {
          "base_uri": "https://localhost:8080/",
          "height": 105
        }
      },
      "source": [
        "Fsi.clear()\n",
        "dMPL=pd.DataFrame(index=loc)\n",
        "dMPL.insert(0,'k',k)\n",
        "dMPL.insert(1,'FO',dc['FO'])\n",
        "dMPL.insert(2,'1-k',1-k)\n",
        "dMPL.insert(3,'FS',dFsi['Fsi'])\n",
        "for i in dMPL.index:\n",
        "  Fsi.append(dMPL['k'][i]*dMPL['FO'][i] + dMPL['1-k'][i]*dMPL['FS'][i])\n",
        "dMPL.insert(4,'MPL',Fsi)\n",
        "Fsi=np.array(Fsi)\n",
        "for i in dMPL.index:\n",
        "  if dMPL['MPL'][i]==np.amax(Fsi):\n",
        "    print('el mayor valor de MPL es ',dMPL['MPL'][i],\n",
        "          'y corresponde a la localización',i)\n",
        "print(dMPL)"
      ],
      "execution_count": 15,
      "outputs": [
        {
          "output_type": "stream",
          "text": [
            "el mayor valor de MPL es  0.36319433800802103 y corresponde a la localización C\n",
            "     k        FO  1-k        FS       MPL\n",
            "A  0.9  0.317879  0.1  0.270833  0.313174\n",
            "B  0.9  0.322553  0.1  0.333333  0.323631\n",
            "C  0.9  0.359568  0.1  0.395833  0.363194\n"
          ],
          "name": "stdout"
        }
      ]
    }
  ]
}