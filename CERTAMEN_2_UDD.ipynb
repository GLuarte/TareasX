{
  "nbformat": 4,
  "nbformat_minor": 0,
  "metadata": {
    "colab": {
      "name": "CERTAMEN 2 UDD",
      "provenance": [],
      "collapsed_sections": [],
      "authorship_tag": "ABX9TyMa8J4kAeLiV9O2LtKsOgmY",
      "include_colab_link": true
    },
    "kernelspec": {
      "name": "python3",
      "display_name": "Python 3"
    }
  },
  "cells": [
    {
      "cell_type": "markdown",
      "metadata": {
        "id": "view-in-github",
        "colab_type": "text"
      },
      "source": [
        "<a href=\"https://colab.research.google.com/github/GLuarte/TareasX/blob/master/CERTAMEN_2_UDD.ipynb\" target=\"_parent\"><img src=\"https://colab.research.google.com/assets/colab-badge.svg\" alt=\"Open In Colab\"/></a>"
      ]
    },
    {
      "cell_type": "code",
      "metadata": {
        "id": "TG_f55mRqHxw",
        "colab_type": "code",
        "colab": {}
      },
      "source": [
        "import pandas as pd\n",
        "import datetime\n",
        "import matplotlib.pyplot as plt\n",
        "import numpy as np\n"
      ],
      "execution_count": 293,
      "outputs": []
    },
    {
      "cell_type": "code",
      "metadata": {
        "id": "tTJclx3wrmG7",
        "colab_type": "code",
        "colab": {}
      },
      "source": [
        "url1='https://raw.githubusercontent.com/GLuarte/TareasX/master/WHO-COVID-19-global-data.csv'\n",
        "url2='https://raw.githubusercontent.com/MinCiencia/Datos-COVID19/master/output/producto33/IndiceDeMovilidad-IM_externo.csv'\n",
        "url3='https://raw.githubusercontent.com/MinCiencia/Datos-COVID19/master/output/producto8/UCI_T.csv'\n",
        "url4='https://raw.githubusercontent.com/MinCiencia/Datos-COVID19/master/output/producto1/Covid-19.csv'\n",
        "url5='https://raw.githubusercontent.com/MinCiencia/Datos-COVID19/master/output/producto33/IndiceDeMovilidad-IM_interno.csv'\n",
        "data_ww=pd.read_csv(url1)\n",
        "data_ww=data_ww[['Date_reported','Country','New_cases','Cumulative_cases','New_deaths','Cumulative_deaths']]\n",
        "i_movE=pd.read_csv(url2)\n",
        "i_movI=pd.read_csv(url5)\n",
        "uci_t=pd.read_csv(url3)\n",
        "cases_CL=pd.read_csv(url4)\n"
      ],
      "execution_count": 294,
      "outputs": []
    },
    {
      "cell_type": "code",
      "metadata": {
        "id": "lklUedwFSKjY",
        "colab_type": "code",
        "colab": {}
      },
      "source": [
        "#Date formating\n",
        "dates=[]\n",
        "dates2=[]\n",
        "for i in range(len(data_ww)):\n",
        "  dates.append(data_ww['Date_reported'][i][0:10])\n",
        "for i in dates:\n",
        "  dates2.append(datetime.date(int(i[0:4]),int(i[5:7]),int(i[8:10])))\n",
        "data_ww.pop('Date_reported')\n",
        "data_ww.insert(0,'Date_reported',dates2)"
      ],
      "execution_count": 295,
      "outputs": []
    },
    {
      "cell_type": "code",
      "metadata": {
        "id": "ojQiNsz5YoRD",
        "colab_type": "code",
        "colab": {}
      },
      "source": [
        "\n",
        "## casos x pais\n",
        "def casos_pais(dfile, country, fecha):\n",
        "  C=country\n",
        "  for i,j in enumerate(dfile['Country']):\n",
        "    if j==C and dfile['Date_reported'][i]==fecha:\n",
        "      result1=(C,fecha,dfile['Cumulative_cases'][i])\n",
        "\n",
        "  \n",
        "  return result1"
      ],
      "execution_count": 296,
      "outputs": []
    },
    {
      "cell_type": "code",
      "metadata": {
        "id": "9LI-5pMSQilF",
        "colab_type": "code",
        "colab": {}
      },
      "source": [
        "\n",
        "##Ranking x pais\n",
        "def n_casos_pais(n,fecha,dfile):\n",
        "  ind=[]\n",
        "  for i,j in enumerate(dfile['Date_reported']):\n",
        "    if(j==fecha):\n",
        "      ind.append(i)\n",
        "\n",
        "  rank=pd.DataFrame(dfile.loc[ind])\n",
        "  rank=rank.sort_values('Cumulative_cases',axis=0,ascending=False)\n",
        "  indx=[]\n",
        "  for i in range(1,n+1):\n",
        "    indx.append(i)\n",
        "  rank=pd.DataFrame(rank[:n])\n",
        "  #rank=rank.reindex(indx)\n",
        "  rank=rank.reset_index(drop=True)\n",
        "  rank=rank[['Date_reported','Country','Cumulative_cases']]\n",
        "\n",
        " \n",
        "\n",
        "  return (rank)"
      ],
      "execution_count": 297,
      "outputs": []
    },
    {
      "cell_type": "code",
      "metadata": {
        "id": "a9co2gzTqlkD",
        "colab_type": "code",
        "colab": {}
      },
      "source": [
        "# Max Fallecidos\n",
        "\n",
        "def max_fallecidos(dfile):\n",
        "  deaths=pd.DataFrame(dfile.sort_values('Cumulative_deaths',ascending=False))\n",
        "  deaths.reset_index(drop=True)\n",
        "  deaths=deaths[:1]\n",
        "  for i in (deaths.index):\n",
        "    max_death=((deaths['Country'][i],deaths['Cumulative_deaths'][i]))\n",
        "  \n",
        "  return max_death"
      ],
      "execution_count": 298,
      "outputs": []
    },
    {
      "cell_type": "code",
      "metadata": {
        "id": "iFaRezE7vekC",
        "colab_type": "code",
        "colab": {}
      },
      "source": [
        "\n",
        "\n",
        "#COMPARA FALLECIDOS X PAIS\n",
        "def compara_fallecidos_paises(pais1,pais2,fecha,dfile):\n",
        "\n",
        "  ind=[]\n",
        "  for i,j in enumerate(dfile['Date_reported']):\n",
        "    if(j==fecha):\n",
        "      ind.append(i)\n",
        "\n",
        "  d1=pd.DataFrame(dfile.loc[ind])\n",
        "  \n",
        "  comp=[]\n",
        "  for i in (d1.index):\n",
        "    \n",
        "    if(d1['Country'][i]==pais1 or d1['Country'][i]==pais2):\n",
        "      comp.append(d1['Country'][i])\n",
        "      comp.append(int(d1['Cumulative_deaths'][i]))\n",
        "      comp.append(int(d1['New_deaths'][i]))\n",
        "    \n",
        "  if (comp[1]>comp[4]):\n",
        "    x1=comp[0]\n",
        "    y1=comp[1]\n",
        "  elif(comp[1]<comp[4]):\n",
        "    x1=comp[3]\n",
        "    y1=comp[4]\n",
        "  else:\n",
        "    x1='La cantidad de fallecidos acumulados es la misma'\n",
        "    y1=comp[1]  \n",
        "\n",
        "  if (comp[2]>comp[5]):\n",
        "    x2=comp[0]\n",
        "    y2=comp[2]\n",
        "  elif(comp[2]<comp[5]):\n",
        "    x2=comp[3]\n",
        "    y2=comp[5]\n",
        "  else:\n",
        "    x2='La cantidad de nuevos fallecidos es la misma'\n",
        "    y2=comp[2] \n",
        "\n",
        "  result4=(x1,y1,x2,y2)\n",
        "  return result4\n",
        "\n",
        "\n",
        "\n",
        "\n",
        "  \n"
      ],
      "execution_count": 299,
      "outputs": []
    },
    {
      "cell_type": "code",
      "metadata": {
        "id": "d1F1cWkBEGTi",
        "colab_type": "code",
        "colab": {}
      },
      "source": [
        "def contagiados_region(dfile):\n",
        "  dfile=dfile.copy()  \n",
        "  columns=list(dfile)\n",
        "\n",
        "  del columns[:5]\n",
        "  columns.remove('Tasa')\n",
        "\n",
        "  dfile[\"sum\"] = dfile[columns].sum(axis=1)\n",
        "\n",
        "  dfile=dfile[['Region','sum']]\n",
        "  regiones=[]\n",
        "  for i in dfile['Region']:\n",
        "    if i not in regiones:\n",
        "      regiones.append(i)\n",
        "\n",
        "  casos=np.zeros(len(regiones))\n",
        "  for i,j in enumerate (dfile['sum']):\n",
        "    for k in range(len(regiones)):\n",
        "\n",
        "      if (dfile['Region'][i]==regiones[k]):\n",
        "        casos[k]+=j\n",
        "\n",
        "  casos.astype(int)\n",
        "  casosxregion = {regiones[i]: casos[i] for i in range(len(regiones))}\n",
        "  return(casosxregion)"
      ],
      "execution_count": 300,
      "outputs": []
    },
    {
      "cell_type": "code",
      "metadata": {
        "id": "emhRF5BjQulJ",
        "colab_type": "code",
        "colab": {}
      },
      "source": [
        "def contagiados_file_r(dfile,region):\n",
        "  \n",
        "  ind=[]\n",
        "  for i,j in enumerate(dfile['Region']):\n",
        "    if(j==region):\n",
        "      ind.append(i)\n",
        "  d1=pd.DataFrame(dfile.loc[ind])\n",
        "  columns=list(dfile)\n",
        "  #print(columns)\n",
        "  del columns[:5]\n",
        "  columns.remove('Tasa')\n",
        "  #print(columns)\n",
        "\n",
        "  \n",
        "  d1[\"sum\"] = d1[columns].sum(axis=1)\n",
        "  \n",
        "  d1=d1[['Comuna','sum']]\n",
        "  #print(d1)\n",
        "  \n",
        "  comunas=[]\n",
        "  for i in d1['Comuna']:\n",
        "    if i not in comunas:\n",
        "      comunas.append(i)\n",
        "  \n",
        "  \n",
        "  casos=np.zeros(len(comunas))\n",
        "  \n",
        "  for i in (d1.index):\n",
        "    for k in range(len(comunas)):\n",
        "\n",
        "      if (d1['Comuna'][i]==comunas[k]):\n",
        "        casos[k]+=d1['sum'][i]\n",
        "\n",
        "  casos.astype(int)\n",
        "  casosxcomuna = {comunas[i]: casos[i] for i in range(len(comunas))}\n",
        "  dcasosxcomuna=pd.DataFrame.from_dict(casosxcomuna, orient='index',columns=['Casos'])\n",
        "  region=region+'.csv'\n",
        "  region=region.lower()\n",
        "  region=region.replace(' ','_')\n",
        "  dcasosxcomuna.to_csv(region,index=True)\n",
        "  return(dcasosxcomuna)"
      ],
      "execution_count": 301,
      "outputs": []
    },
    {
      "cell_type": "code",
      "metadata": {
        "id": "LBKOogD55_xZ",
        "colab_type": "code",
        "colab": {}
      },
      "source": [
        "def internados_uci_region(dfile):\n",
        "  dfile=dfile.copy()  \n",
        "  regiones=list(dfile)\n",
        "  regiones.remove('Region')\n",
        "  ucixregion={i: uci_t[i][len(dfile)-1] for i in(regiones)}\n",
        "  return ucixregion"
      ],
      "execution_count": 302,
      "outputs": []
    },
    {
      "cell_type": "code",
      "metadata": {
        "id": "hk8R1d-I6LT9",
        "colab_type": "code",
        "colab": {}
      },
      "source": [
        "\n",
        "def porcentaje_poblacion(dfile,region):\n",
        "  dfile=dfile.copy()\n",
        "\n",
        "  dfile=dfile[['Region',region]]\n",
        "  \n",
        "  porc=np.zeros(len(dfile)-2)\n",
        "  pob=dfile[region][1]\n",
        "  dfile=dfile.drop([0,1],axis=0)\n",
        "  dfile=dfile.rename(columns={'Region':'Fecha'})\n",
        "  for i in range(2,len(dfile)):\n",
        "    porc[i-2]=dfile[region][i]*100/pob\n",
        "  \n",
        "  dfile.insert(2,'% Poblacion en UCI',porc)\n",
        "  \n",
        "  name='UCI_'+region+'_evolucion.png'\n",
        "  dfile.plot(x='Fecha',y='% Poblacion en UCI',kind='line',color='red')\n",
        "  plt.xticks(np.arange(0,len(dfile)+1,10))\n",
        "  plt.tick_params(axis='x',rotation=45)\n",
        "  plt.title('Evolucion UCI '+region,loc='center')\n",
        "  plt.savefig(name,quality=100,format='png')\n",
        "  plt.show()\n",
        "  return(dfile)\n"
      ],
      "execution_count": 303,
      "outputs": []
    },
    {
      "cell_type": "code",
      "metadata": {
        "id": "2bqKetFHj_h_",
        "colab_type": "code",
        "colab": {}
      },
      "source": [
        "\n",
        "def mov_comunaE(dfile1,comuna,fecha):\n",
        "  dfile1=dfile1.copy()\n",
        "  for i,j in enumerate(dfile1['Comuna']):\n",
        "    if (j==comuna):\n",
        "      indx_movE=dfile1[str(fecha)][i]\n",
        "  return indx_movE"
      ],
      "execution_count": 304,
      "outputs": []
    },
    {
      "cell_type": "code",
      "metadata": {
        "id": "9ZvRdR8_r5MZ",
        "colab_type": "code",
        "colab": {}
      },
      "source": [
        "def mov_comunaI(dfile2,comuna,fecha):\n",
        "  dfile2=dfile2.copy()\n",
        "  for i,j in enumerate(dfile2['Comuna']):\n",
        "    if (j==comuna):\n",
        "      indx_movI=dfile2[str(fecha)][i]\n",
        "  return indx_movI"
      ],
      "execution_count": 305,
      "outputs": []
    },
    {
      "cell_type": "code",
      "metadata": {
        "id": "K5-Hi8WhuWo1",
        "colab_type": "code",
        "colab": {}
      },
      "source": [
        "def movi_comuna_file(dfile1,dfile2,comuna):\n",
        "  dfile1=dfile1.copy()\n",
        "  dfile2=dfile2.copy()\n",
        "  dfile1=dfile1.drop(['Region','Codigo region','Codigo comuna','Superficie_km2','Poblacion'],axis=1)\n",
        "  dfile2=dfile2.drop(['Region','Codigo region','Codigo comuna','Superficie_km2','Poblacion'],axis=1)\n",
        "  for i,j in enumerate(dfile1['Comuna']):\n",
        "    if (j==comuna):\n",
        "      d1=pd.DataFrame(dfile1.loc[[i]])\n",
        "      d2=pd.DataFrame(dfile2.loc[[i]])\n",
        "  d1=d1.T\n",
        "  #print(d1)\n",
        "  d1=d1.drop(['Comuna'],axis=0)\n",
        "  d1=d1.reset_index()\n",
        "  d1=d1.rename(columns={'index':'Fecha',d1.columns[1]:'Indice externo'})\n",
        "\n",
        "  d2=d2.T\n",
        "  #print(d2)\n",
        "  d2=d2.drop(['Comuna'],axis=0)\n",
        "  d2=d2.reset_index()\n",
        "  d2=d2.rename(columns={'index':'Fecha',d2.columns[1]:'Indice interno'})\n",
        "  #print(d1)\n",
        "  #print(d2)\n",
        "\n",
        "  d2['Indice externo']=d1['Indice externo']\n",
        "  plot_func(d2,comuna)\n",
        "\n",
        "  comuna1='movilidad_'+comuna+'.csv'\n",
        "  comuna1=comuna1.lower()\n",
        "  comuna1=comuna1.replace(' ','_')\n",
        "  d2.to_csv(comuna1,index=False)\n",
        "  return d2"
      ],
      "execution_count": 306,
      "outputs": []
    },
    {
      "cell_type": "code",
      "metadata": {
        "id": "Ha_v4pjbwHHx",
        "colab_type": "code",
        "colab": {}
      },
      "source": [
        "def plot_func(d2,comuna):\n",
        "  plt.plot('Fecha','Indice interno',data=d2,marker='',color='red')\n",
        "  plt.plot('Fecha','Indice externo',data=d2,marker='',color='cyan')\n",
        "  plt.xticks(np.arange(0,len(d2)+1,10))\n",
        "  plt.tick_params(axis='x',rotation=45)\n",
        "  plt.title('Indices de movilidad '+comuna,loc='center')\n",
        "  name2='Indices_movilidad_'+comuna+'_evolucion.png'\n",
        "  plt.savefig(name2,quality=100,format='png')\n",
        "\n",
        "  plt.show()\n",
        "\n",
        "  d2.plot(x='Fecha',y='Indice interno',kind='line',color='red')\n",
        "  plt.tick_params(axis='x',rotation=45)\n",
        "  plt.title('Indices de movilidad interna '+comuna,loc='center')\n",
        "\n",
        "  name1='Indice_movilidad_I_'+comuna+'_evolucion.png'\n",
        "  plt.savefig(name1,quality=100,format='png')\n",
        "\n",
        "  plt.show()\n",
        "  d2.plot(x='Fecha',y='Indice externo',kind='line',color='cyan')\n",
        "  plt.xticks(np.arange(0,len(d2)+1,10))\n",
        "  plt.tick_params(axis='x',rotation=45)\n",
        "  plt.title('Indices de movilidad externa '+comuna,loc='center')\n",
        "  name2='Indice_movilidad_E_'+comuna+'_evolucion.png'\n",
        "  plt.savefig(name2,quality=100,format='png')\n",
        "  plt.show()"
      ],
      "execution_count": 307,
      "outputs": []
    },
    {
      "cell_type": "code",
      "metadata": {
        "id": "9s03lyYl4A33",
        "colab_type": "code",
        "colab": {
          "base_uri": "https://localhost:8080/",
          "height": 1000
        },
        "outputId": "47e00938-c794-4049-aeb5-1911320a7104"
      },
      "source": [
        "fecha=input().split()\n",
        "fecha=datetime.date(int(fecha[0]),int(fecha[1]),int(fecha[2]))\n",
        "\n",
        "#1\n",
        "country=str(input())\n",
        "result1=casos_pais(data_ww,country,fecha)\n",
        "print('País:',result1[0],'Fecha:',result1[1],'Contagiados:',result1[2])\n",
        "\n",
        "#2\n",
        "n=int(input())\n",
        "result2=n_casos_pais(n,fecha,data_ww)\n",
        "print(result2)\n",
        "\n",
        "#3\n",
        "result3=max_fallecidos(data_ww)\n",
        "print(result3)\n",
        "\n",
        "#4\n",
        "pais1=str(input())\n",
        "pais2=str(input())\n",
        "result4=compara_fallecidos_paises(pais1,pais2,fecha,data_ww)\n",
        "print(result4)\n",
        "\n",
        "#5\n",
        "result5=contagiados_region(cases_CL)\n",
        "print(result5)\n",
        "\n",
        "#6\n",
        "region=input()\n",
        "result6=contagiados_file_r(cases_CL,region)\n",
        "print(result6)  \n",
        "\n",
        "#7\n",
        "result7=internados_uci_region(uci_t)\n",
        "print(result7)\n",
        "\n",
        "#8\n",
        "result8=porcentaje_poblacion(uci_t,region)\n",
        "\n",
        "#9\n",
        "comuna=input()\n",
        "\n",
        "result9_1=mov_comunaE(i_movE,comuna,fecha)\n",
        "result9_2=mov_comunaI(i_movI,comuna,fecha)\n",
        "print(result9_1,result9_2)\n",
        "\n",
        "#10\n",
        "result10=movi_comuna_file(i_movE,i_movI,comuna)"
      ],
      "execution_count": 320,
      "outputs": [
        {
          "output_type": "stream",
          "text": [
            "2020 4 18\n",
            "Spain\n",
            "País: Spain Fecha: 2020-04-18 Contagiados: 188578\n",
            "5\n",
            "  Date_reported                   Country  Cumulative_cases\n",
            "0    2020-04-18  United States of America            665330\n",
            "1    2020-04-18                     Spain            188578\n",
            "2    2020-04-18                     Italy            172434\n",
            "3    2020-04-18                   Germany            137439\n",
            "4    2020-04-18        The United Kingdom            108696\n",
            "('United States of America', 115980)\n",
            "Mexico\n",
            "Chile\n",
            "('Mexico', 486, 'Mexico', 37)\n",
            "{'Arica y Parinacota': 10883.0, 'Tarapacá': 31068.0, 'Antofagasta': 37013.0, 'Atacama': 3774.0, 'Coquimbo': 10950.0, 'Valparaíso': 53271.0, 'Metropolitana': 1125455.0, 'O’Higgins': 14328.0, 'Maule': 23347.0, 'Ñuble': 25135.0, 'Biobío': 33864.0, 'Araucanía': 37845.0, 'Los Ríos': 6354.0, 'Los Lagos': 15640.0, 'Aysén': 215.0, 'Magallanes': 19271.0}\n",
            "Antofagasta\n",
            "                           Casos\n",
            "Antofagasta              21456.0\n",
            "Calama                    8845.0\n",
            "Maria Elena               1851.0\n",
            "Mejillones                3406.0\n",
            "Ollague                      4.0\n",
            "San Pedro de Atacama       190.0\n",
            "Sierra Gorda               211.0\n",
            "Taltal                     420.0\n",
            "Tocopilla                  487.0\n",
            "Desconocido Antofagasta    143.0\n",
            "{'Arica y Parinacota': 15, 'Tarapacá': 38, 'Antofagasta': 68, 'Atacama': 7, 'Coquimbo': 21, 'Valparaíso': 122, 'Metropolitana': 1437, 'O’Higgins': 57, 'Maule': 59, 'Ñuble': 14, 'Biobío': 66, 'Araucanía': 15, 'Los Ríos': 1, 'Los Lagos': 26, 'Aysén': 1, 'Magallanes': 4}\n"
          ],
          "name": "stdout"
        },
        {
          "output_type": "display_data",
          "data": {
            "image/png": "[encoded data removed]",
            "text/plain": [
              "<Figure size 432x288 with 1 Axes>"
            ]
          },
          "metadata": {
            "tags": [],
            "needs_background": "light"
          }
        },
        {
          "output_type": "stream",
          "text": [
            "Tomé\n",
            "1.791097133 1.901778154\n"
          ],
          "name": "stdout"
        },
        {
          "output_type": "display_data",
          "data": {
            "image/png": "[encoded data removed]",
            "text/plain": [
              "<Figure size 432x288 with 1 Axes>"
            ]
          },
          "metadata": {
            "tags": [],
            "needs_background": "light"
          }
        },
        {
          "output_type": "display_data",
          "data": {
            "image/png": "[encoded data removed]",
            "text/plain": [
              "<Figure size 432x288 with 1 Axes>"
            ]
          },
          "metadata": {
            "tags": [],
            "needs_background": "light"
          }
        },
        {
          "output_type": "display_data",
          "data": {
            "image/png": "[encoded data removed]",
            "text/plain": [
              "<Figure size 432x288 with 1 Axes>"
            ]
          },
          "metadata": {
            "tags": [],
            "needs_background": "light"
          }
        }
      ]
    }
  ]
}