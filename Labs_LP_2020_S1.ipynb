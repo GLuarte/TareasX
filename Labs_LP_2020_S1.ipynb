{
  "nbformat": 4,
  "nbformat_minor": 0,
  "metadata": {
    "colab": {
      "name": "Labs LP 2020-S1.ipynb",
      "provenance": [],
      "collapsed_sections": [
        "d2k7NoGA4FXh",
        "uqiB6nnUw9AW",
        "L4HARa52xCbM",
        "kEmIJq2pxFnr",
        "KOMyomXjxLO2",
        "FJ0C1hmhxqt1",
        "Pp8s5yr04RAh",
        "-Z7JFcrX6ZZL",
        "wx2d8rt57e3x",
        "s4K0bDvg8jb_",
        "qGseo1Wr-hwv",
        "wkJbrZr6AAiE",
        "MUTq4qiKBBeN",
        "QvBQoWvsDnLo",
        "tbycpX2PDr3h",
        "qdCqULeIh4bA",
        "lUyB8rozkFxZ",
        "BNSw8jTQri_H",
        "_JVCXtiZuj5R",
        "yqDX_2NCqUyw",
        "CKFpu_u7rNAP",
        "QvWRd8enrRCu",
        "k3tSj3y7pPjr"
      ],
      "authorship_tag": "ABX9TyPGUlbv+UaX/pt7rtrI6STB",
      "include_colab_link": true
    },
    "kernelspec": {
      "name": "python3",
      "display_name": "Python 3"
    }
  },
  "cells": [
    {
      "cell_type": "markdown",
      "metadata": {
        "id": "view-in-github",
        "colab_type": "text"
      },
      "source": [
        "<a href=\"https://colab.research.google.com/github/GLuarte/TareasX/blob/master/Labs_LP_2020_S1.ipynb\" target=\"_parent\"><img src=\"https://colab.research.google.com/assets/colab-badge.svg\" alt=\"Open In Colab\"/></a>"
      ]
    },
    {
      "cell_type": "markdown",
      "metadata": {
        "id": "FehximCCsJtn",
        "colab_type": "text"
      },
      "source": [
        "# Laboratorios Lenguaje de Programación\n",
        "## Semestre 1 - Año 2020\n",
        "### Códigos por [Gonzalo Luarte P.](https://github.com/GLuarte) (Ayudante)"
      ]
    },
    {
      "cell_type": "markdown",
      "metadata": {
        "id": "d2k7NoGA4FXh",
        "colab_type": "text"
      },
      "source": [
        "## Lab 4\n",
        "#### 12/5"
      ]
    },
    {
      "cell_type": "markdown",
      "metadata": {
        "id": "uqiB6nnUw9AW",
        "colab_type": "text"
      },
      "source": [
        "#### Problema 1"
      ]
    },
    {
      "cell_type": "code",
      "metadata": {
        "id": "Z--9Wp29gHz-",
        "colab_type": "code",
        "colab": {
          "base_uri": "https://localhost:8080/",
          "height": 35
        },
        "outputId": "56e4a358-7adb-4b36-b3e0-2227f9d3e39d"
      },
      "source": [
        "print('Hola mundo')"
      ],
      "execution_count": null,
      "outputs": [
        {
          "output_type": "stream",
          "text": [
            "Hola mundo\n"
          ],
          "name": "stdout"
        }
      ]
    },
    {
      "cell_type": "markdown",
      "metadata": {
        "id": "L4HARa52xCbM",
        "colab_type": "text"
      },
      "source": [
        "#### Problema 2"
      ]
    },
    {
      "cell_type": "code",
      "metadata": {
        "id": "RWZMPY_ri67g",
        "colab_type": "code",
        "colab": {
          "base_uri": "https://localhost:8080/",
          "height": 121
        },
        "outputId": "81caeb60-8d6c-4333-be48-03d87db76163"
      },
      "source": [
        "for i in range(0,6,1):\n",
        "  print('hola mundo')"
      ],
      "execution_count": null,
      "outputs": [
        {
          "output_type": "stream",
          "text": [
            "hola mundo\n",
            "hola mundo\n",
            "hola mundo\n",
            "hola mundo\n",
            "hola mundo\n",
            "hola mundo\n"
          ],
          "name": "stdout"
        }
      ]
    },
    {
      "cell_type": "markdown",
      "metadata": {
        "id": "kEmIJq2pxFnr",
        "colab_type": "text"
      },
      "source": [
        "#### Problema 3"
      ]
    },
    {
      "cell_type": "code",
      "metadata": {
        "id": "tOBxNg4Zkq4_",
        "colab_type": "code",
        "colab": {
          "base_uri": "https://localhost:8080/",
          "height": 121
        },
        "outputId": "4785878a-1f5b-4428-9ccf-d62483d23885"
      },
      "source": [
        "i=0\n",
        "while i<6:\n",
        "  print('hola mundo')\n",
        "  i=i+1"
      ],
      "execution_count": null,
      "outputs": [
        {
          "output_type": "stream",
          "text": [
            "hola mundo\n",
            "hola mundo\n",
            "hola mundo\n",
            "hola mundo\n",
            "hola mundo\n",
            "hola mundo\n"
          ],
          "name": "stdout"
        }
      ]
    },
    {
      "cell_type": "markdown",
      "metadata": {
        "id": "KOMyomXjxLO2",
        "colab_type": "text"
      },
      "source": [
        "#### Problema 4"
      ]
    },
    {
      "cell_type": "code",
      "metadata": {
        "id": "qw8t5El9n_E4",
        "colab_type": "code",
        "colab": {
          "base_uri": "https://localhost:8080/",
          "height": 87
        },
        "outputId": "8551887e-7734-4d37-c5d2-49277f8663eb"
      },
      "source": [
        "a=float(input('ingrese la variabe a '))\n",
        "b=float(input('ingrese la variable b '))\n",
        "c=float(input('ingrese la variable c '))\n",
        "\n",
        "aux=a\n",
        "a=c\n",
        "c=b\n",
        "b=aux\n",
        "\n",
        "print(a,b,c)"
      ],
      "execution_count": null,
      "outputs": [
        {
          "output_type": "stream",
          "text": [
            "ingrese la variabe a 5.6\n",
            "ingrese la variable b -8.95\n",
            "ingrese la variable c 12.7\n",
            "12.7 5.6 -8.95\n"
          ],
          "name": "stdout"
        }
      ]
    },
    {
      "cell_type": "markdown",
      "metadata": {
        "id": "FJ0C1hmhxqt1",
        "colab_type": "text"
      },
      "source": [
        "#### Poblema 5"
      ]
    },
    {
      "cell_type": "code",
      "metadata": {
        "id": "oVztVU6Gza3f",
        "colab_type": "code",
        "colab": {}
      },
      "source": [
        "## Metodo 1 \n",
        "### Convencional un dato por linea\n",
        "jA=int(input('Ingrese los juegos del jugador A:'))\n",
        "jB=int(input('Ingrese los juegos del jugador B:'))"
      ],
      "execution_count": null,
      "outputs": []
    },
    {
      "cell_type": "code",
      "metadata": {
        "id": "NFRCV8qExfmO",
        "colab_type": "code",
        "colab": {
          "base_uri": "https://localhost:8080/"
        },
        "outputId": "c5e412ab-6358-4ba6-de79-f112f47dfac3"
      },
      "source": [
        "## Metodo 2 \n",
        "### Me permite ingresar datos en una linea\n",
        "jA,jB = input(\"Ingrese juegos ganados del jugador A y B (separados por espacio): \").split()\n",
        "jA=int(jA)\n",
        "jB=int(jB)"
      ],
      "execution_count": null,
      "outputs": [
        {
          "output_type": "stream",
          "text": [
            "Ingrese juegos ganados del jugador A y B (separados por espacio): 2 3\n"
          ],
          "name": "stdout"
        }
      ]
    },
    {
      "cell_type": "code",
      "metadata": {
        "id": "a5qEtwWbzsk7",
        "colab_type": "code",
        "colab": {
          "base_uri": "https://localhost:8080/"
        },
        "outputId": "9dbe4142-a1c5-480c-ca35-4633e75e3e54"
      },
      "source": [
        "if (jA<0 or jA>7 or jB<0 or jB>7):\n",
        "  print('Resultado invalido')\n",
        "\n",
        "elif(jA>jB and jA==jB+2 and jA>=6 and jA<=7):\n",
        "  print('Gana el jugador A')\n",
        "\n",
        "elif(jA<jB and jA+2==jB and jB>=6 and jB<=7) :\n",
        "  print('Gana el jugador B')\n",
        "\n",
        "elif(jA>jB and jA==jB+1 and jA==7):\n",
        "  print('Gana el jugador A')\n",
        "\n",
        "elif(jA<jB and jA+1==jB and jB==7):\n",
        "  print('Gana el jugador B')\n",
        "\n",
        "elif(jA<6 and jB<6):\n",
        "  print('Set en desarrollo')\n",
        "\n",
        "else:\n",
        "  print('Resultado Invalido')"
      ],
      "execution_count": null,
      "outputs": [
        {
          "output_type": "stream",
          "text": [
            "Set en desarrollo\n"
          ],
          "name": "stdout"
        }
      ]
    },
    {
      "cell_type": "markdown",
      "metadata": {
        "id": "Pp8s5yr04RAh",
        "colab_type": "text"
      },
      "source": [
        "#### Problema 6"
      ]
    },
    {
      "cell_type": "code",
      "metadata": {
        "id": "Unx9fduV3Nki",
        "colab_type": "code",
        "colab": {
          "base_uri": "https://localhost:8080/"
        },
        "outputId": "0be70aba-9625-499f-efec-78be70f5e6a5"
      },
      "source": [
        "x=-1\n",
        "s=0\n",
        "while(x!=0):\n",
        "  x=int(input())\n",
        "  while(x<0):\n",
        "    x=int(input('El monto debe ser positivo'))\n",
        "  s+=x\n",
        "if s>10000 :\n",
        "  s=s*.9\n",
        "print(s)"
      ],
      "execution_count": null,
      "outputs": [
        {
          "output_type": "stream",
          "text": [
            "500\n",
            "8500\n",
            "2000\n",
            "0\n",
            "9900.0\n"
          ],
          "name": "stdout"
        }
      ]
    },
    {
      "cell_type": "markdown",
      "metadata": {
        "id": "-Z7JFcrX6ZZL",
        "colab_type": "text"
      },
      "source": [
        "#### Problema 7"
      ]
    },
    {
      "cell_type": "code",
      "metadata": {
        "id": "3ziKpEnc6eY8",
        "colab_type": "code",
        "colab": {
          "base_uri": "https://localhost:8080/"
        },
        "outputId": "731d9bd1-299c-4e1c-ab4e-1a1bfa89d29b"
      },
      "source": [
        "x=int(input())\n",
        "m='+'\n",
        "\n",
        "if x<0:\n",
        "  m='-'\n",
        "  x=x*-1\n",
        "\n",
        "for i in range(x):\n",
        "  print(m,end=' ')\n"
      ],
      "execution_count": null,
      "outputs": [
        {
          "output_type": "stream",
          "text": [
            "-12\n",
            "- - - - - - - - - - - - "
          ],
          "name": "stdout"
        }
      ]
    },
    {
      "cell_type": "markdown",
      "metadata": {
        "id": "wx2d8rt57e3x",
        "colab_type": "text"
      },
      "source": [
        "#### Problema 8"
      ]
    },
    {
      "cell_type": "code",
      "metadata": {
        "id": "W_biTLRg7dVj",
        "colab_type": "code",
        "colab": {
          "base_uri": "https://localhost:8080/"
        },
        "outputId": "f6a35c57-cd14-4238-bd49-282c440a793d"
      },
      "source": [
        "x=int(input())\n",
        "m='-'\n",
        "while x<0:\n",
        "  x=int(input())\n",
        "\n",
        "for i in range(x*2):\n",
        "  if i==x:\n",
        "   m='+'\n",
        "   i=0\n",
        "   print('0',end=' ')\n",
        "  print(m,end=' ')"
      ],
      "execution_count": null,
      "outputs": [
        {
          "output_type": "stream",
          "text": [
            "12\n",
            "- - - - - - - - - - - - 0 + + + + + + + + + + + + "
          ],
          "name": "stdout"
        }
      ]
    },
    {
      "cell_type": "markdown",
      "metadata": {
        "id": "s4K0bDvg8jb_",
        "colab_type": "text"
      },
      "source": [
        "#### Problema 9"
      ]
    },
    {
      "cell_type": "code",
      "metadata": {
        "id": "G1xSygV18mkE",
        "colab_type": "code",
        "colab": {
          "base_uri": "https://localhost:8080/"
        },
        "outputId": "abb844c4-eff5-4cf7-faf8-1c1d227b3579"
      },
      "source": [
        "n=int(input())\n",
        "\n",
        "i=0\n",
        "p=0\n",
        "im=0\n",
        "\n",
        "while i<n:\n",
        "  x=int(input())\n",
        "  while(x<0):\n",
        "    x=int(input())\n",
        "  if(x%2==0):\n",
        "    p+=1\n",
        "  elif(x%2!=0):\n",
        "    im+=1\n",
        "  i+=1\n",
        "print('Hay',p,'numeros pares y',im,'numeros impares')"
      ],
      "execution_count": null,
      "outputs": [
        {
          "output_type": "stream",
          "text": [
            "4\n",
            "2\n",
            "3\n",
            "6\n",
            "7\n",
            "Hay 2 numeros pares y 2 numeros impares\n"
          ],
          "name": "stdout"
        }
      ]
    },
    {
      "cell_type": "markdown",
      "metadata": {
        "id": "qGseo1Wr-hwv",
        "colab_type": "text"
      },
      "source": [
        "#### Problema 10"
      ]
    },
    {
      "cell_type": "code",
      "metadata": {
        "id": "jsPPsok9-hPp",
        "colab_type": "code",
        "colab": {
          "base_uri": "https://localhost:8080/"
        },
        "outputId": "1624c36a-e7c5-4cc2-f84e-8e43024e0954"
      },
      "source": [
        "pos=0\n",
        "suma=0\n",
        "x=-1\n",
        "print('Input')\n",
        "while x!=0:\n",
        "  x=int(input())\n",
        "  while(x<0 or x>20):\n",
        "    print('valor fuera de rango, ingrese nuevamente')\n",
        "    x=int(input())\n",
        "  suma+=abs(pos-x)\n",
        "  pos=x\n",
        "print('Output')\n",
        "print(suma)"
      ],
      "execution_count": null,
      "outputs": [
        {
          "output_type": "stream",
          "text": [
            "Input\n",
            "20\n",
            "1\n",
            "5\n",
            "2\n",
            "16\n",
            "2\n",
            "0\n",
            "Output\n",
            "76\n"
          ],
          "name": "stdout"
        }
      ]
    },
    {
      "cell_type": "markdown",
      "metadata": {
        "id": "wkJbrZr6AAiE",
        "colab_type": "text"
      },
      "source": [
        "#### Problema 11"
      ]
    },
    {
      "cell_type": "code",
      "metadata": {
        "id": "xpfIDDfqADV3",
        "colab_type": "code",
        "colab": {
          "base_uri": "https://localhost:8080/"
        },
        "outputId": "cf2875a5-27fd-481b-a5c2-2c0b903295f0"
      },
      "source": [
        "p=int(input())\n",
        "while p<=0 or p>10:\n",
        "  p=int(input())\n",
        "\n",
        "for i in range(p+1):\n",
        "  for j in range(i):\n",
        "    print(i,end='')\n",
        "  print('')"
      ],
      "execution_count": null,
      "outputs": [
        {
          "output_type": "stream",
          "text": [
            "7\n",
            "\n",
            "1\n",
            "22\n",
            "333\n",
            "4444\n",
            "55555\n",
            "666666\n",
            "7777777\n"
          ],
          "name": "stdout"
        }
      ]
    },
    {
      "cell_type": "markdown",
      "metadata": {
        "id": "MUTq4qiKBBeN",
        "colab_type": "text"
      },
      "source": [
        "#### Problema 12"
      ]
    },
    {
      "cell_type": "code",
      "metadata": {
        "id": "Y8AY4gfXA_Nu",
        "colab_type": "code",
        "colab": {
          "base_uri": "https://localhost:8080/"
        },
        "outputId": "5bd3866b-2dca-4ca1-9380-f1aff88e5282"
      },
      "source": [
        "p=int(input())\n",
        "while p<=0 or p>10:\n",
        "  p=int(input())\n",
        "inic=0\n",
        "fin=p+1\n",
        "paso=1\n",
        "for i in range(inic,fin,paso):\n",
        "  for j in range(i):\n",
        "    print(i,end='')\n",
        "  print('')\n",
        "  \n",
        "inic=p-1\n",
        "fin=0\n",
        "paso=-1\n",
        "for i in range(inic,fin,paso):\n",
        "  for j in range(i):\n",
        "    print(i,end='')\n",
        "  print('')"
      ],
      "execution_count": null,
      "outputs": [
        {
          "output_type": "stream",
          "text": [
            "7\n",
            "\n",
            "1\n",
            "22\n",
            "333\n",
            "4444\n",
            "55555\n",
            "666666\n",
            "7777777\n",
            "666666\n",
            "55555\n",
            "4444\n",
            "333\n",
            "22\n",
            "1\n"
          ],
          "name": "stdout"
        }
      ]
    },
    {
      "cell_type": "markdown",
      "metadata": {
        "id": "QvBQoWvsDnLo",
        "colab_type": "text"
      },
      "source": [
        "## Lab 5\n",
        "#### 19/5"
      ]
    },
    {
      "cell_type": "markdown",
      "metadata": {
        "id": "tbycpX2PDr3h",
        "colab_type": "text"
      },
      "source": [
        "#### Problema 1"
      ]
    },
    {
      "cell_type": "code",
      "metadata": {
        "id": "oOsBcU58EuF_",
        "colab_type": "code",
        "colab": {
          "base_uri": "https://localhost:8080/",
          "height": 87
        },
        "outputId": "3eec1af5-1a6e-44cd-9d2c-e1ebab149212"
      },
      "source": [
        "q,E,c=input().split()\n",
        "q=int(q)\n",
        "E=int(E)\n",
        "c=int(c)\n",
        "\n",
        "while(q<1 or q>45 or E<1 or E>20 or c<10000 or c>100000):\n",
        "  q,E,c=input('Datos invalidos ingrese nuevamente').split()\n",
        "  q=int(q)\n",
        "  E=int(E)\n",
        "  c=int(c)\n",
        "\n",
        "emp=[]\n",
        "for i in  range(E):\n",
        "  n,v,s=input().split()\n",
        "  v=int(v)\n",
        "  s=int(s)\n",
        "  \n",
        "  while(s<1 or s>50 or v<10000 or v>15000):\n",
        "    q,E,c=input('Datos invalidos ingrese nuevamente').split()\n",
        "    q=int(q)\n",
        "    E=int(E)\n",
        "    c=int(c)\n",
        "  if(v<=c and s>=q):\n",
        "    emp.append([n,v,s])\n",
        "\n",
        "if len(emp)==0:\n",
        "  print('No hay buses disponibles para el viaje')\n",
        "else:\n",
        "  for i in range(len(emp)):\n",
        "    print(emp[i][0],'los lleva por',emp[i][1]*q)\n"
      ],
      "execution_count": null,
      "outputs": [
        {
          "output_type": "stream",
          "text": [
            "30 2 25000\n",
            "peleken 15000 25\n",
            "mibus 13200 19\n",
            "No hay buses disponibles para el viaje\n"
          ],
          "name": "stdout"
        }
      ]
    },
    {
      "cell_type": "markdown",
      "metadata": {
        "id": "qdCqULeIh4bA",
        "colab_type": "text"
      },
      "source": [
        "#### Problema 2"
      ]
    },
    {
      "cell_type": "code",
      "metadata": {
        "id": "rHqJdwFHLrOp",
        "colab_type": "code",
        "colab": {
          "base_uri": "https://localhost:8080/"
        },
        "outputId": "1515f075-4c3d-4fb7-b9fd-e86a2c0ee3f4"
      },
      "source": [
        "x='x'\n",
        "y=-1\n",
        "s=0\n",
        "while(x!='fin' and x!='Fin' and y!=0):\n",
        "  x,y=input().split()\n",
        "  y=int(y)\n",
        "  s+=y\n",
        "print('su fortuna equivale a ',s)"
      ],
      "execution_count": null,
      "outputs": [
        {
          "output_type": "stream",
          "text": [
            "casamiami 225000000\n",
            "casamadrid 253000000\n",
            "casachile 189000000\n",
            "jet 870000000\n",
            "yate 678000000\n",
            "mercedes 56000000\n",
            "audi1 32000000\n",
            "audi2 27500000\n",
            "hummer 46000000\n",
            "sitiolago 133000000\n",
            "fin 0\n",
            "su fortuna equivale a  2509500000\n"
          ],
          "name": "stdout"
        }
      ]
    },
    {
      "cell_type": "markdown",
      "metadata": {
        "id": "lUyB8rozkFxZ",
        "colab_type": "text"
      },
      "source": [
        "#### Problema 3"
      ]
    },
    {
      "cell_type": "code",
      "metadata": {
        "id": "Dg6m64M7kI6N",
        "colab_type": "code",
        "colab": {
          "base_uri": "https://localhost:8080/",
          "height": 404
        },
        "outputId": "1d8895bd-cb00-4d78-f7fb-59f6a2d1b18d"
      },
      "source": [
        "s=[[0,0,0,0],['x','x','x','x']]\n",
        "for i in range(4):\n",
        "  s[1][i]=str(input())\n",
        "  x='x'\n",
        "  y=-1\n",
        "  while(x!='fin' and x!='Fin' and y!=0):\n",
        "    x,y=input().split()\n",
        "    y=int(y)\n",
        "    s[0][i]+=y\n",
        "\n",
        "for i in range(4):\n",
        "  if(s[0][i]>y):\n",
        "    y=s[0][i]\n",
        "    x=s[1][i]\n",
        "print('el mas rico es',x,'con una fortuna de',y/1000000,'millones')\n"
      ],
      "execution_count": null,
      "outputs": [
        {
          "output_type": "stream",
          "text": [
            "gonzalo\n",
            "pc 1\n",
            "cel 1\n",
            "aud 1\n",
            "cam 2\n",
            "fin 0\n",
            "andres\n",
            "pc 2\n",
            "piano 1\n",
            "int 1\n",
            "zap 1\n",
            "fin 0\n",
            "urzula\n",
            "casanonguen 20\n",
            "campo2 15\n",
            "fin 0\n",
            "eduardo\n",
            "casalomas 100\n",
            "campo1 100\n",
            "fin 0\n",
            "[[5, 5, 35, 200], ['gonzalo', 'andres', 'urzula', 'eduardo']]\n",
            "el mas rico es eduardo con una fortuna de 0.0002 millones\n"
          ],
          "name": "stdout"
        }
      ]
    },
    {
      "cell_type": "markdown",
      "metadata": {
        "id": "BNSw8jTQri_H",
        "colab_type": "text"
      },
      "source": [
        "#### Problema 4"
      ]
    },
    {
      "cell_type": "code",
      "metadata": {
        "id": "xky7R6JFrtZt",
        "colab_type": "code",
        "colab": {
          "base_uri": "https://localhost:8080/",
          "height": 52
        },
        "outputId": "503d0fc0-29d5-4d8a-e600-01b613840ced"
      },
      "source": [
        "c=str(input())\n",
        "while (len(c)!=2):\n",
        "  c=str(input())\n",
        "p='p'\n",
        "if c[1]=='d' or c[1]=='D':\n",
        "  p='diamante'\n",
        "elif c[1]=='p' or c[1]=='P':\n",
        "  p='pica'\n",
        "elif c[1]=='t' or c[1]=='T':\n",
        "  p='trebol'\n",
        "elif c[1]=='c' or c[1]=='C':\n",
        "  p='corazon'\n",
        "else:\n",
        "  print('carta invalida')\n",
        "if c[0]=='k' or c[0]=='K':\n",
        "  print('rey de',p)\n",
        "elif c[0]=='q' or c[0]=='Q':\n",
        "  print('reina de',p)\n",
        "elif c[0]=='j' or c[0]=='J':\n",
        "  print('jack de',p)\n",
        "elif c[0]=='a' or c[0]=='A':\n",
        "  print('as de',p)\n",
        "elif (int(c[0])>=2 and int(c[0])<=10):\n",
        "  print(c[0],'de', p)\n",
        "else:\n",
        "  print('carta invalida')\n"
      ],
      "execution_count": null,
      "outputs": [
        {
          "output_type": "stream",
          "text": [
            "kd\n",
            "rey de diamante\n"
          ],
          "name": "stdout"
        }
      ]
    },
    {
      "cell_type": "markdown",
      "metadata": {
        "id": "_JVCXtiZuj5R",
        "colab_type": "text"
      },
      "source": [
        "#### Problema 5"
      ]
    },
    {
      "cell_type": "code",
      "metadata": {
        "id": "HK2znlDYunur",
        "colab_type": "code",
        "colab": {
          "base_uri": "https://localhost:8080/",
          "height": 281
        },
        "outputId": "de76d581-3743-4559-99f7-2bec8c89ce21"
      },
      "source": [
        "n=int(input())\n",
        "j=[]\n",
        "t=[]\n",
        "\n",
        "k=10\n",
        "while(k>n):\n",
        "  for i in range(n):\n",
        "    c=str(input())\n",
        "    while(len(c)!=2):\n",
        "      c=str(input())\n",
        "    if (c[0]=='K' or c[0]=='Q' or c[0]=='J' or c[:2]=='10' ):\n",
        "      j.append(10)\n",
        "    elif(c[0]=='A'):\n",
        "      \n",
        "      j.append(15)\n",
        "    elif (int(c[0])>=2 and int(c[0])<=9):\n",
        "      j.append(int(c[0]))\n",
        "  print(j)\n",
        "  t.append(j)\n",
        "  print(t)\n",
        "  j=[]\n",
        "  k-=n\n",
        "print(t)\n",
        "j=[]\n",
        "for i in range(n):\n",
        "  j.append(0)\n",
        "\n",
        "for i in range(len(t)):\n",
        "  x=t[i][0]\n",
        "  for k in range(n):\n",
        "    if(t[i][k]>x):\n",
        "      x=t[i][k]\n",
        "  for l in range(n):\n",
        "    if(t[i][l]<x):\n",
        "      j[l]-=(x/2)\n",
        "      if(j[l]<0):\n",
        "        j[l]=0\n",
        "    elif(t[i][l]==x):\n",
        "      j[l]+=x\n",
        "print(j)\n",
        "\n",
        "for i in range(n):\n",
        "  print('Jugador',i,':',j[i])\n",
        "\n",
        "  "
      ],
      "execution_count": null,
      "outputs": [
        {
          "output_type": "stream",
          "text": [
            "4\n",
            "2T\n",
            "KD\n",
            "4T\n",
            "QP\n",
            "[2, 10, 4, 10]\n",
            "[[2, 10, 4, 10]]\n",
            "JC\n",
            "4P\n",
            "9T\n",
            "JP\n",
            "[10, 4, 9, 10]\n",
            "[[2, 10, 4, 10], [10, 4, 9, 10]]\n",
            "[[2, 10, 4, 10], [10, 4, 9, 10]]\n",
            "[10, 5.0, 0, 20]\n"
          ],
          "name": "stdout"
        }
      ]
    },
    {
      "cell_type": "markdown",
      "metadata": {
        "id": "yqDX_2NCqUyw",
        "colab_type": "text"
      },
      "source": [
        "## Lab 6\n",
        "#### 26/5"
      ]
    },
    {
      "cell_type": "markdown",
      "metadata": {
        "id": "QZMDbUeNqbwH",
        "colab_type": "text"
      },
      "source": [
        "####Problema 2"
      ]
    },
    {
      "cell_type": "code",
      "metadata": {
        "id": "rL23LlV-qk7y",
        "colab_type": "code",
        "colab": {}
      },
      "source": [
        "p=int(input())\n",
        "while p<=0:\n",
        "  p=int(input())\n",
        "suma=0\n",
        "while suma<p:\n",
        "  x=int(input())\n",
        "  suma=suma+x\n",
        "suma=suma-x\n",
        "print(suma)"
      ],
      "execution_count": null,
      "outputs": []
    },
    {
      "cell_type": "markdown",
      "metadata": {
        "id": "BY4jX1MLqmuO",
        "colab_type": "text"
      },
      "source": [
        "#### Problema 3"
      ]
    },
    {
      "cell_type": "code",
      "metadata": {
        "id": "y0DZJAtbqovG",
        "colab_type": "code",
        "colab": {}
      },
      "source": [
        "x=int(input(\"Ingrese cantidad de oro: \"))\n",
        "y=int(input(\"Ingrese oro límite: \"))\n",
        "z=int(input(\"Ingrese porcentaje de cobro: \"))\n",
        "m=x\n",
        "n=0\n",
        "while m>=y:\n",
        "    m=m-(m*z/100)\n",
        "    n=n+1\n",
        "print(n)"
      ],
      "execution_count": null,
      "outputs": []
    },
    {
      "cell_type": "markdown",
      "metadata": {
        "id": "l4sEgg1Uqvgo",
        "colab_type": "text"
      },
      "source": [
        "#### Problema 5"
      ]
    },
    {
      "cell_type": "code",
      "metadata": {
        "id": "S_Oz65XQq2GG",
        "colab_type": "code",
        "colab": {}
      },
      "source": [
        "n=int(input())\n",
        "i=0\n",
        "p=0\n",
        "while p<=0:\n",
        "  p=int(input())\n",
        "x_=int(input('ingrese coordenada x '))\n",
        "y_=int(input('ingrese coordenada y '))\n",
        "\n",
        "x0=x_\n",
        "y0=y_\n",
        "while i <n-1:\n",
        "  x1=int(input('ingrese coordenada x '))\n",
        "  y1=int(input('ingrese coordenada y '))\n",
        "  p=p+((x1-x0)**2+(y1-y0)**2)**0.5\n",
        "  x0=x1\n",
        "  y0=y1\n",
        "  i=i+1\n",
        "x1=x_\n",
        "y1=y_\n",
        "p=p+((x1-x0)**2+(y1-y0)**2)**.5\n",
        "print(p)"
      ],
      "execution_count": null,
      "outputs": []
    },
    {
      "cell_type": "markdown",
      "metadata": {
        "id": "CKFpu_u7rNAP",
        "colab_type": "text"
      },
      "source": [
        "## Lab 7\n",
        "#### 2/6\n",
        "###### (funciones)"
      ]
    },
    {
      "cell_type": "markdown",
      "metadata": {
        "id": "QvWRd8enrRCu",
        "colab_type": "text"
      },
      "source": [
        "#### Problema 1"
      ]
    },
    {
      "cell_type": "code",
      "metadata": {
        "id": "95EIuchDrqFm",
        "colab_type": "code",
        "colab": {}
      },
      "source": [
        "def imc_calculator(x,y,z):\n",
        "  imc= (x)/(y**2)\n",
        "  print(imc)\n",
        "  if(imc>=25):\n",
        "    print('esta con sobrepeso')\n",
        "    z=z+1\n",
        "  return z\n",
        "\n",
        "def lee_valida(z,maxi, mini):\n",
        "  z=float(input('Ingrese un dato'))\n",
        "  while z<=mini or z>maxi:\n",
        "    z=float(input('Ingrese nuevamente'))\n",
        "  return z\n",
        "\n",
        "n=int(input())\n",
        "p=0\n",
        "h=0\n",
        "sp=0\n",
        "for i in range(n):\n",
        "  \n",
        "  p=lee_valida(p,300,0)\n",
        "  h=lee_valida(h,2.2,0)\n",
        "  sp=imc_calculator(p,h,sp)\n",
        "\n",
        "print('Existen ',sp,'miembros con sobrepeso')\n"
      ],
      "execution_count": null,
      "outputs": []
    },
    {
      "cell_type": "markdown",
      "metadata": {
        "id": "yMoGldzjrr1T",
        "colab_type": "text"
      },
      "source": [
        "#### Problema 2"
      ]
    },
    {
      "cell_type": "code",
      "metadata": {
        "id": "MoFTb8P0rv7C",
        "colab_type": "code",
        "colab": {}
      },
      "source": [
        "def lee_valida(x,min):\n",
        "  x=int(input())\n",
        "  while x<=min:\n",
        "    x=int(input())\n",
        "  return x\n",
        "\n",
        "def simplificacion(n,d):\n",
        "  reduc=False\n",
        "  for i in range(2,n+1):\n",
        "    if(n%i==0 and d%i==0):\n",
        "      n=n/i\n",
        "      d=d/i\n",
        "      reduc=True\n",
        "  if reduc==False:\n",
        "    print('fraccion irreducible')\n",
        "  else:\n",
        "    print(n,'/',d)\n",
        "\n",
        "n=0\n",
        "d=0\n",
        "n=lee_valida(n,0)\n",
        "d=lee_valida(d,0)\n",
        "simplificacion(n,d)\n"
      ],
      "execution_count": null,
      "outputs": []
    },
    {
      "cell_type": "markdown",
      "metadata": {
        "id": "QzUX-b9Rr8i3",
        "colab_type": "text"
      },
      "source": [
        "#### Problema 5"
      ]
    },
    {
      "cell_type": "code",
      "metadata": {
        "id": "kqLe7TKXsFVG",
        "colab_type": "code",
        "colab": {
          "base_uri": "https://localhost:8080/",
          "height": 69
        },
        "outputId": "d41e5fb5-64b9-40db-b060-d0b0ea06a02a"
      },
      "source": [
        "def son_amigos(n,m):\n",
        "    suman=0\n",
        "    sumam=0\n",
        "    i=1\n",
        "    j=1\n",
        "    while i<n:\n",
        "        div=n%i\n",
        "        if div==0:\n",
        "            suman=suman+i\n",
        "        i=i+1\n",
        "    while j<m:\n",
        "        div=m%j\n",
        "        if div==0:\n",
        "            sumam=sumam+j\n",
        "        j=j+1\n",
        "    if sumam==n and suman==m:\n",
        "        return \"son amigos\"\n",
        "    else:\n",
        "        return \"no son amigos\"\n",
        " \n",
        "n=int(input(\"numero 1\"))\n",
        "m=int(input(\"numero 2\"))\n",
        "\n",
        " \n",
        "\n",
        "x=son_amigos(n,m)\n",
        "\n",
        " \n",
        "\n",
        "print(x)"
      ],
      "execution_count": null,
      "outputs": [
        {
          "output_type": "stream",
          "text": [
            "numero 1220\n",
            "numero 2284\n",
            "son amigos\n"
          ],
          "name": "stdout"
        }
      ]
    },
    {
      "cell_type": "markdown",
      "metadata": {
        "id": "RqICAIZDj3pE",
        "colab_type": "text"
      },
      "source": [
        "## Lab 8\n",
        "#### 9/6"
      ]
    },
    {
      "cell_type": "code",
      "metadata": {
        "id": "Ju0hFnNpj2nt",
        "colab_type": "code",
        "colab": {}
      },
      "source": [
        ""
      ],
      "execution_count": null,
      "outputs": []
    },
    {
      "cell_type": "markdown",
      "metadata": {
        "id": "IhWis5opkEK7",
        "colab_type": "text"
      },
      "source": [
        "## Lab 9\n",
        "#### 16/6"
      ]
    },
    {
      "cell_type": "markdown",
      "metadata": {
        "id": "JdHA3Jjeu9eZ",
        "colab_type": "text"
      },
      "source": [
        "#### Problema 1"
      ]
    },
    {
      "cell_type": "code",
      "metadata": {
        "id": "_MsU242FnMA3",
        "colab_type": "code",
        "colab": {
          "base_uri": "https://localhost:8080/",
          "height": 156
        },
        "outputId": "d1885ee2-3e34-43e4-b6a9-1719b2162f91"
      },
      "source": [
        "def desv_std(lista,prom):\n",
        "  ds=0\n",
        "  for i in lista:\n",
        "    ds+=((prom-i)**2)\n",
        "  ds=ds/len(lista)\n",
        "  ds=ds**.5\n",
        "  return (ds)  \n",
        "\n",
        "\n",
        "def moda_(lista):\n",
        "  y=0\n",
        "  m=0\n",
        "  for i in lista:\n",
        "    x=lista.count(i)\n",
        "    if (x>y):\n",
        "      y=x\n",
        "      m=i\n",
        "  return (m)\n",
        "\n",
        "\n",
        "n=int(input())\n",
        "lista=[]\n",
        "for i in range(n):\n",
        "  valor=(int(input()))\n",
        "  lista.append(valor)\n",
        "suma = sum(lista)\n",
        "prom=suma/n\n",
        "ds= desv_std(lista,prom)\n",
        "moda=moda_(lista)\n",
        "\n",
        "print(prom,ds,moda)"
      ],
      "execution_count": null,
      "outputs": [
        {
          "output_type": "stream",
          "text": [
            "6\n",
            "13\n",
            "-9\n",
            "7\n",
            "12\n",
            "7\n",
            "9\n",
            "6.5 7.297259759663212 7\n"
          ],
          "name": "stdout"
        }
      ]
    },
    {
      "cell_type": "markdown",
      "metadata": {
        "id": "QUN7XEsD2Xxh",
        "colab_type": "text"
      },
      "source": [
        "#### Problema 2"
      ]
    },
    {
      "cell_type": "code",
      "metadata": {
        "id": "LCjR71qZz9Mp",
        "colab_type": "code",
        "colab": {
          "base_uri": "https://localhost:8080/",
          "height": 173
        },
        "outputId": "6d98009f-7cb7-492c-a4d0-fa7a1051f818"
      },
      "source": [
        "nombres=[]\n",
        "x=input()\n",
        "while x!='':\n",
        "  nombres.append(x)\n",
        "  x=input()\n",
        "x=nombres[len(nombres)-1]\n",
        "nombres.reverse()\n",
        "nombres.append(x)\n",
        "nombres.pop(0)\n",
        "nombres.reverse()\n",
        "print(nombres)"
      ],
      "execution_count": null,
      "outputs": [
        {
          "output_type": "stream",
          "text": [
            "matias\n",
            "marcela\n",
            "felipe\n",
            "alberto\n",
            "fabiola\n",
            "margarita\n",
            "benjamin\n",
            "\n",
            "['benjamin', 'matias', 'marcela', 'felipe', 'alberto', 'fabiola', 'margarita']\n"
          ],
          "name": "stdout"
        }
      ]
    },
    {
      "cell_type": "markdown",
      "metadata": {
        "id": "JszZst9_2eSF",
        "colab_type": "text"
      },
      "source": [
        "#### Problema 3"
      ]
    },
    {
      "cell_type": "code",
      "metadata": {
        "id": "ss-Md_fR68dI",
        "colab_type": "code",
        "colab": {
          "base_uri": "https://localhost:8080/",
          "height": 173
        },
        "outputId": "3ef5ca5a-71da-4345-c99a-b38315227b74"
      },
      "source": [
        "nombres=[]\n",
        "\n",
        "x=input()\n",
        "while x!='':\n",
        "  nombres.append(x)\n",
        "  x=input()\n",
        "  \n",
        "\n",
        "nombres2=nombres.copy()\n",
        "nombres2.sort()\n",
        "x=nombres2[0]\n",
        "nombres.remove(x)\n",
        "nombres.insert(0,x)\n",
        "\n",
        "print(nombres)"
      ],
      "execution_count": null,
      "outputs": [
        {
          "output_type": "stream",
          "text": [
            "matias\n",
            "marcela\n",
            "felipe\n",
            "alberto\n",
            "fabiola\n",
            "margarita\n",
            "benjamin\n",
            "\n",
            "['alberto', 'matias', 'marcela', 'felipe', 'fabiola', 'margarita', 'benjamin']\n"
          ],
          "name": "stdout"
        }
      ]
    },
    {
      "cell_type": "markdown",
      "metadata": {
        "id": "3XM1yS5mI2Je",
        "colab_type": "text"
      },
      "source": [
        "#### Problema 4"
      ]
    },
    {
      "cell_type": "code",
      "metadata": {
        "id": "2p5AxIy0I1vk",
        "colab_type": "code",
        "colab": {}
      },
      "source": [
        "### INGRESO MANUAL DE DATOS\n",
        "nombres=[]\n",
        "\n",
        "x=float(input())\n",
        "while x!=0:\n",
        "  nombres.append(x)\n",
        "  x=float(input())"
      ],
      "execution_count": null,
      "outputs": []
    },
    {
      "cell_type": "code",
      "metadata": {
        "id": "NJNHLC2r_3zB",
        "colab_type": "code",
        "colab": {
          "base_uri": "https://localhost:8080/",
          "height": 55
        },
        "outputId": "fca230aa-1b16-483c-ce94-343d2beec446"
      },
      "source": [
        "### INGRESO AUTOMATICO DE DATOS \n",
        "### UTILIZANDO BIBLIOTEA \"RANDOM\" PARA GENERAR VALORES ALEATORIOS EN UN RANGO\n",
        "### ¡¡¡SOLO CORRER UNO DE LOS 2!!!\n",
        "\n",
        "import random\n",
        "\n",
        "numeros=[]\n",
        "for i in range (20):\n",
        "  numeros.append(round(random.uniform(1, 7), 1))\n",
        "print(numeros)"
      ],
      "execution_count": null,
      "outputs": [
        {
          "output_type": "stream",
          "text": [
            "[3.9, 1.8, 2.1, 6.4, 3.8, 3.9, 2.6, 6.7, 2.1, 1.2, 3.2, 5.9, 1.2, 5.8, 1.4, 7.0, 2.9, 1.2, 5.6, 1.9]\n"
          ],
          "name": "stdout"
        }
      ]
    },
    {
      "cell_type": "code",
      "metadata": {
        "id": "ZMupvSysDFj5",
        "colab_type": "code",
        "colab": {
          "base_uri": "https://localhost:8080/",
          "height": 225
        },
        "outputId": "29eae87d-18c4-4ebb-a591-dae9e78357d5"
      },
      "source": [
        "\n",
        "contadores=[0,0,0,0,0,0]\n",
        "\n",
        "for i in numeros:\n",
        "  if i>=1 and i<2:\n",
        "    contadores[0]+=1\n",
        "  elif i>=2 and i<3:\n",
        "    contadores[1]+=1\n",
        "  elif i>=3 and i<4:\n",
        "    contadores[2]+=1\n",
        "  elif i>=4 and i<5:\n",
        "    contadores[3]+=1\n",
        "  elif i>5 and i<6:\n",
        "    contadores[4]+=1\n",
        "  elif i>=6 and i<=7:\n",
        "    contadores[5]+=1\n",
        "\n",
        "rangos=['1.0-1.9','2.0-2.9','3.0-3.9','4.0-4.9','5.0-5,9','6.0-7.0']\n",
        "\n",
        "for i,j in enumerate(contadores): ## LA FUNCION ENUMERATE ENTREGA EL VALOR DEL INDICE Y EL DEL ELEMENTO EN LA LISTA\n",
        "  print(rangos[i],'|',end='')\n",
        "  for k in range(j):\n",
        "    print('*',end=' ')\n",
        "  print('\\n')"
      ],
      "execution_count": null,
      "outputs": [
        {
          "output_type": "stream",
          "text": [
            "1.0-1.9 |* * * * * * \n",
            "\n",
            "2.0-2.9 |* * * * \n",
            "\n",
            "3.0-3.9 |* * * * \n",
            "\n",
            "4.0-4.9 |\n",
            "\n",
            "5.0-5,9 |* * * \n",
            "\n",
            "6.0-7.0 |* * * \n",
            "\n"
          ],
          "name": "stdout"
        }
      ]
    },
    {
      "cell_type": "code",
      "metadata": {
        "id": "eBpqBi9XKAnK",
        "colab_type": "code",
        "colab": {
          "base_uri": "https://localhost:8080/",
          "height": 139
        },
        "outputId": "e7b80485-6cf1-4aa4-e2c5-74693709a027"
      },
      "source": [
        "## EJEMPLO FUNCION \"ENUMERATE\"\n",
        "\n",
        "print('se desplegara tanto el indicice como el valor respectivo en la lista')\n",
        "for i,j in enumerate(contadores):\n",
        "  print(i,j)\n"
      ],
      "execution_count": null,
      "outputs": [
        {
          "output_type": "stream",
          "text": [
            "se desplegara tanto el indicice como el valor respectivo en la lista\n",
            "0 6\n",
            "1 4\n",
            "2 4\n",
            "3 0\n",
            "4 3\n",
            "5 3\n"
          ],
          "name": "stdout"
        }
      ]
    },
    {
      "cell_type": "markdown",
      "metadata": {
        "id": "l2RsmQWpH4Zd",
        "colab_type": "text"
      },
      "source": [
        "#### Problema 5"
      ]
    },
    {
      "cell_type": "code",
      "metadata": {
        "id": "Jxg4J8wjH3bv",
        "colab_type": "code",
        "colab": {
          "base_uri": "https://localhost:8080/",
          "height": 173
        },
        "outputId": "bcb4f7fc-40ae-433c-9660-d17c00adf130"
      },
      "source": [
        "n=int(input())\n",
        "\n",
        "lista_super=[]\n",
        "\n",
        "for i in range(n):\n",
        "  lista_super.append(input())\n",
        "lista_super.sort()\n",
        "print(lista_super)"
      ],
      "execution_count": null,
      "outputs": [
        {
          "output_type": "stream",
          "text": [
            "7\n",
            "pan\n",
            "mantequilla\n",
            "manjar\n",
            "leche\n",
            "cafe\n",
            "uvas\n",
            "paltas\n",
            "['cafe', 'leche', 'manjar', 'mantequilla', 'paltas', 'pan', 'uvas']\n"
          ],
          "name": "stdout"
        }
      ]
    },
    {
      "cell_type": "markdown",
      "metadata": {
        "id": "ggXDMXummyDo",
        "colab_type": "text"
      },
      "source": [
        "## Lab 10\n",
        "#### 23/6"
      ]
    },
    {
      "cell_type": "markdown",
      "metadata": {
        "id": "rV2-QC3Ao8Y7",
        "colab_type": "text"
      },
      "source": [
        "#### Problema 1"
      ]
    },
    {
      "cell_type": "code",
      "metadata": {
        "id": "YEkbe3zRo69l",
        "colab_type": "code",
        "colab": {}
      },
      "source": [
        "def validar(inf,sup,mensaje):\n",
        "    n=int(input(mensaje))\n",
        "    while n < inf or n > sup:\n",
        "        n=int(input(mensaje))\n",
        "    return n\n",
        "#programa principal\n",
        "n=validar(1,100,\"ingrese el n numero de stripies\")\n",
        "peso=[]\n",
        "for i in range(n):\n",
        "    p=validar(1,10000,\"ingrese peso del stripie\")\n",
        "    peso.append(p)\n",
        "peso.sort()#ordena de menor a mayor\n",
        "peso.reverse()#invierte el orden\n",
        "print(peso)\n",
        "i=0\n",
        "while len(peso)!=1:\n",
        "    m1=peso[i]\n",
        "    m2=peso[i+1]\n",
        "    c=2*((m1*m2)**(1/2))\n",
        "    peso.remove(peso[i+1])\n",
        "    peso.remove(peso[i])\n",
        "    peso.insert(0,c)\n",
        "print(\"el peso minimo de la colonia es\",peso[0])"
      ],
      "execution_count": null,
      "outputs": []
    },
    {
      "cell_type": "markdown",
      "metadata": {
        "id": "k3tSj3y7pPjr",
        "colab_type": "text"
      },
      "source": [
        "#### Problema 2"
      ]
    },
    {
      "cell_type": "code",
      "metadata": {
        "id": "TYl1cFdSpSZ9",
        "colab_type": "code",
        "colab": {
          "base_uri": "https://localhost:8080/"
        },
        "outputId": "f6c9cb4c-3f17-468b-9a5e-453492cbe3bd"
      },
      "source": [
        "n=int(input())\n",
        "\n",
        "L=[]\n",
        "\n",
        "for i in range(n):\n",
        "  L.append(int(input()))\n",
        "\n",
        "Lmin=L[0]\n",
        "Lmax=L[0]\n",
        "\n",
        "for i in L:\n",
        "\n",
        "  Lmin_aux=i\n",
        "  Lmax_aux=i\n",
        "\n",
        "  if(Lmin>Lmin_aux):\n",
        "    Lmin=Lmin_aux\n",
        "  if(Lmax<Lmax_aux):\n",
        "    Lmax=Lmax_aux \n",
        "\n",
        "print(L)\n",
        "print(Lmin,Lmax)\n",
        "p=int(input())\n",
        "S=[]\n",
        "\n",
        "while p>Lmax or p<Lmin:\n",
        "  p=int(input())\n",
        "\n",
        "for i in L:\n",
        "  if i>p and i%2!=0:\n",
        "    S.append(i)\n",
        "\n",
        "print(S)\n"
      ],
      "execution_count": null,
      "outputs": [
        {
          "output_type": "stream",
          "text": [
            "10\n",
            "-1\n",
            "3\n",
            "5\n",
            "11\n",
            "4\n",
            "22\n",
            "35\n",
            "-7\n",
            "44\n",
            "139\n",
            "[-1, 3, 5, 11, 4, 22, 35, -7, 44, 139]\n",
            "-7 139\n",
            "5\n",
            "[11, 35, 139]\n"
          ],
          "name": "stdout"
        }
      ]
    },
    {
      "cell_type": "code",
      "metadata": {
        "id": "KOU6elrLxyB9",
        "colab_type": "code",
        "colab": {
          "base_uri": "https://localhost:8080/"
        },
        "outputId": "3ae0fa6a-82cd-4f05-9dff-71fe52c90963"
      },
      "source": [
        "# Codigo por Gabriel Chung\n",
        "L = []\n",
        "b = 0\n",
        "a = 0\n",
        "n = int(input(\"Ingrese cantidad de números: \"))\n",
        "while n<5 or n>100:\n",
        "    n = int(input(\"Ingrese nuevamente cantidad de números: \"))\n",
        "for i in range(n):\n",
        "    m = int(input(\"Ingrese número: \"))\n",
        "    if i == 0:\n",
        "        b = m\n",
        "        a = m\n",
        "    else:\n",
        "        if m>b:\n",
        "            b = m\n",
        "        if m<a:\n",
        "            a = m\n",
        "    L.append(m)\n",
        "v = int(input(\"Ingrese número entre el mayor y el mínimo de los números ingresados: \"))\n",
        "while v<a or v>b:\n",
        "    v = int(input(\"Ingrese nuevamente valor: \"))\n",
        "K = []\n",
        "for j in range(v+1,b+1):\n",
        "    if j%2!=0:\n",
        "        if j in L:\n",
        "            K.append(j)\n",
        "#print(L)\n",
        "#print(a)\n",
        "#print(b)\n",
        "#print(v)\n",
        "print(K)"
      ],
      "execution_count": null,
      "outputs": [
        {
          "output_type": "stream",
          "text": [
            "Ingrese cantidad de números: 10\n",
            "Ingrese número: -1\n",
            "Ingrese número: 3\n",
            "Ingrese número: 5\n",
            "Ingrese número: 11\n",
            "Ingrese número: 4\n",
            "Ingrese número: 22\n",
            "Ingrese número: 35\n",
            "Ingrese número: -7\n",
            "Ingrese número: 44\n",
            "Ingrese número: 139\n",
            "Ingrese número entre el mayor y el mínimo de los números ingresados: 5\n",
            "[11, 35, 139]\n"
          ],
          "name": "stdout"
        }
      ]
    },
    {
      "cell_type": "code",
      "metadata": {
        "id": "LdqMbzwN1YRc",
        "colab_type": "code",
        "colab": {}
      },
      "source": [
        "# Codigo por Ailin Pastene (Uso de 'bubble sort')\n",
        "def leer_validar(mini,maxi,z,texto):\n",
        "    z=int(input(texto))\n",
        "    while z<=mini or z>=maxi:\n",
        "        z=int(input('Error:'))\n",
        "    return z\n",
        "#programa principal\n",
        "n=0\n",
        "P=0\n",
        "n=leer_validar(5,100,n,'Ingrese cantidad de elementos de la lista:')\n",
        "lista=[]\n",
        "for i in range(n):\n",
        "    e=float(input('Ingrese número:'))\n",
        "    lista.append(e)\n",
        "for i in range(0,n-1):\n",
        "    c=lista[i]\n",
        "    for j in range(i+1,n):\n",
        "        if lista[j]<c:\n",
        "            a=lista[i]\n",
        "            c=lista[j]\n",
        "            lista[i]=lista[j]\n",
        "            lista[j]=a\n",
        "liminf=lista[0]\n",
        "limsup=lista[n-1]\n",
        "P=leer_validar(liminf-1,limsup+1,P,'Ingrese un valor para p:')\n",
        "laux=[]\n",
        "for i in lista:\n",
        "    if i>P:\n",
        "        if i%2!=0:\n",
        "            laux.append(i)\n",
        "print(laux)"
      ],
      "execution_count": null,
      "outputs": []
    },
    {
      "cell_type": "markdown",
      "metadata": {
        "id": "hiOJVr_Dm0y9",
        "colab_type": "text"
      },
      "source": [
        "#### Problema 3"
      ]
    },
    {
      "cell_type": "code",
      "metadata": {
        "id": "JNzRDAr_mxhN",
        "colab_type": "code",
        "colab": {
          "base_uri": "https://localhost:8080/",
          "height": 69
        },
        "outputId": "53fbd2d8-108d-43f2-8fe8-a1bbc50cacb5"
      },
      "source": [
        "#Parte 1\n",
        "n=int(input())\n",
        "\n",
        "while (n<2 or n>6):\n",
        "  n=int(input())\n",
        "\n",
        "manos=[]\n",
        "for i in range (n):\n",
        "  mano_jugador=str(input())\n",
        "  while(len(mano_jugador)!=10):\n",
        "    mano_jugador=str(input())\n",
        "  manos.append(mano_jugador)"
      ],
      "execution_count": null,
      "outputs": [
        {
          "output_type": "stream",
          "text": [
            "2\n",
            "ACKCQC0CJC\n",
            "KT5P3T5T7D\n"
          ],
          "name": "stdout"
        }
      ]
    },
    {
      "cell_type": "code",
      "metadata": {
        "id": "xufT2Ttm57KY",
        "colab_type": "code",
        "colab": {
          "base_uri": "https://localhost:8080/",
          "height": 35
        },
        "outputId": "a76ed030-7e28-4ddb-cce3-6c3621d6ea16"
      },
      "source": [
        "#Parte 2\n",
        "incorrect=False\n",
        "\n",
        "for i in manos:\n",
        "  for j in manos:\n",
        "    if i!=j:\n",
        "      mano1=i\n",
        "      mano2=j\n",
        "      for k in range(0,10,2):\n",
        "        for l in range(0,10,2):\n",
        "          \n",
        "          if(mano1[k:k+2]==mano2[l:l+2]):\n",
        "            #print(mano1[k:k+2],mano2[l:l+2])\n",
        "            incorrect=True\n",
        "\n",
        "if(incorrect==True):\n",
        "  print('reparticion incorrecta')\n",
        "else:\n",
        "  print('reparticion correcta')"
      ],
      "execution_count": null,
      "outputs": [
        {
          "output_type": "stream",
          "text": [
            "reparticion correcta\n"
          ],
          "name": "stdout"
        }
      ]
    },
    {
      "cell_type": "markdown",
      "metadata": {
        "id": "pjJHV22tY-ZA",
        "colab_type": "text"
      },
      "source": [
        "#### Problema 4"
      ]
    },
    {
      "cell_type": "code",
      "metadata": {
        "id": "nGzerAzSlI6Y",
        "colab_type": "code",
        "colab": {}
      },
      "source": [
        "def lee_valida(mano):\n",
        "  mano=[]\n",
        "  cartas=True\n",
        "  mano.clear()\n",
        "  mano=input().split()\n",
        "  pinta=['P','T','C','D']\n",
        "  valores=['A','K','Q','J','0','9','8','7','6','5','4','3','2']\n",
        "  if (len(mano)!=5):\n",
        "    mano=lee_valida(mano)\n",
        "  for i in mano:\n",
        "    if i[0] not in valores:\n",
        "      cartas=False\n",
        "    if i[1] not in pinta:\n",
        "      cartas=False\n",
        "  if cartas==False:\n",
        "    mano=lee_valida(mano)\n",
        "  return mano"
      ],
      "execution_count": null,
      "outputs": []
    },
    {
      "cell_type": "code",
      "metadata": {
        "id": "puidXn-FY9of",
        "colab_type": "code",
        "colab": {}
      },
      "source": [
        "def poker (mano):\n",
        "  valores=[]\n",
        "  for i in mano:\n",
        "    valores.append(i[0])\n",
        "  \n",
        "  for i in valores:\n",
        "    x=valores.count(i)\n",
        "    if x>=4:\n",
        "      return 'poker'\n",
        "      break\n",
        "  return 0"
      ],
      "execution_count": null,
      "outputs": []
    },
    {
      "cell_type": "code",
      "metadata": {
        "id": "TJFBgxvulTjE",
        "colab_type": "code",
        "colab": {}
      },
      "source": [
        "def escalera_real(mano):\n",
        "  escala=False\n",
        "  mano_aux1=[]\n",
        "  mano_aux2=[]\n",
        "  pintas=[]\n",
        "  for i in mano:\n",
        "    pintas.append(i[1])\n",
        "\n",
        "  if pintas.count(pintas[0])==5:\n",
        "    for i in mano:\n",
        "      if i[0]=='A':\n",
        "        mano_aux1.append(14)\n",
        "        mano_aux2.append(1)\n",
        "      elif i[0]=='K':\n",
        "        mano_aux1.append(13)\n",
        "        mano_aux2.append(0)\n",
        "      elif i[0]=='Q':\n",
        "        mano_aux1.append(12)\n",
        "        mano_aux2.append(-1)\n",
        "      elif i[0]=='J':\n",
        "        mano_aux1.append(11)\n",
        "        mano_aux2.append(-2)\n",
        "      elif i[0]=='0':\n",
        "        mano_aux1.append(10)\n",
        "        mano_aux2.append(10)\n",
        "      else:\n",
        "        mano_aux1.append(int (i[0]))\n",
        "        mano_aux2.append(int (i[0]))\n",
        "\n",
        "  for i in mano_aux1:\n",
        "    if (i+1) in mano_aux1 and (i+2) in mano_aux1 and (i+3) in mano_aux1 and (i+4) in mano_aux1:\n",
        "      escala=True\n",
        "\n",
        "  for i in mano_aux2:\n",
        "    if (i+1) in mano_aux2 and (i+2) in mano_aux2 and (i+3) in mano_aux2 and (i+4) in mano_aux2:\n",
        "      escala=True\n",
        "\n",
        "  if escala==False:\n",
        "    return 0\n",
        "  elif escala==True:\n",
        "    return 'Escala Real'  "
      ],
      "execution_count": null,
      "outputs": []
    },
    {
      "cell_type": "code",
      "metadata": {
        "id": "5nqomlx-lc2O",
        "colab_type": "code",
        "colab": {}
      },
      "source": [
        "def full(mano):\n",
        "  valores=[]\n",
        "  for i in mano:\n",
        "    valores.append(i[0])\n",
        "  for i in valores:\n",
        "    if valores.count(i)==3:\n",
        "      for j in valores:\n",
        "        if valores.count(j)==2:\n",
        "          return 'Full'\n",
        "  return 0        "
      ],
      "execution_count": null,
      "outputs": []
    },
    {
      "cell_type": "code",
      "metadata": {
        "id": "gnadIHAKnQnV",
        "colab_type": "code",
        "colab": {}
      },
      "source": [
        "def color(mano):\n",
        "  pintas=[]\n",
        "  for i in mano:\n",
        "    pintas.append(i[1])\n",
        "  if pintas.count(pintas[0])==5:\n",
        "    return 'color'\n",
        "  else:\n",
        "    return 0"
      ],
      "execution_count": null,
      "outputs": []
    },
    {
      "cell_type": "code",
      "metadata": {
        "id": "RPpIwF4noAwY",
        "colab_type": "code",
        "colab": {}
      },
      "source": [
        "def escalera_sucia(mano):\n",
        "  escala=False\n",
        "  mano_aux1=[]\n",
        "  mano_aux2=[]\n",
        "\n",
        "  for i in mano:\n",
        "    if i[0]=='A':\n",
        "      mano_aux1.append(14)\n",
        "      mano_aux2.append(1)\n",
        "    elif i[0]=='K':\n",
        "      mano_aux1.append(13)\n",
        "      mano_aux2.append(0)\n",
        "    elif i[0]=='Q':\n",
        "      mano_aux1.append(12)\n",
        "      mano_aux2.append(-1)\n",
        "    elif i[0]=='J':\n",
        "      mano_aux1.append(11)\n",
        "      mano_aux2.append(-2)\n",
        "    elif i[0]=='0':\n",
        "      mano_aux1.append(10)\n",
        "      mano_aux2.append(10)\n",
        "    else:\n",
        "      mano_aux1.append(int (i[0]))\n",
        "      mano_aux2.append(int (i[0]))\n",
        "\n",
        "  for i in mano_aux1:\n",
        "    if (i+1) in mano_aux1 and (i+2) in mano_aux1 and (i+3) in mano_aux1 and (i+4) in mano_aux1:\n",
        "      escala=True\n",
        "\n",
        "  for i in mano_aux2:\n",
        "    if (i+1) in mano_aux2 and (i+2) in mano_aux2 and (i+3) in mano_aux2 and (i+4) in mano_aux2:\n",
        "      escala=True\n",
        "\n",
        "  if escala==False:\n",
        "    return 0\n",
        "  elif escala==True:\n",
        "    return 'Escala Sucia'  \n"
      ],
      "execution_count": null,
      "outputs": []
    },
    {
      "cell_type": "code",
      "metadata": {
        "id": "-oGKjgLLoxOn",
        "colab_type": "code",
        "colab": {}
      },
      "source": [
        "def trio(mano):\n",
        "  valores=[]\n",
        "  for i in mano:\n",
        "    valores.append(i[0])\n",
        "  for i in valores:\n",
        "    if valores.count(i)==3:\n",
        "      return 'Trio'\n",
        "  return 0"
      ],
      "execution_count": null,
      "outputs": []
    },
    {
      "cell_type": "code",
      "metadata": {
        "id": "4lUyg7AQpjQC",
        "colab_type": "code",
        "colab": {}
      },
      "source": [
        "def doble_par(mano):\n",
        "\n",
        "  valores=[]\n",
        "  for i in mano:\n",
        "    valores.append(i[0])\n",
        "  for i in valores:\n",
        "    if valores.count(i)==2:\n",
        "      for j in valores:\n",
        "        if j!=i:\n",
        "          if valores.count(j)==2:\n",
        "            return 'Doble Par'\n",
        "  return 0     "
      ],
      "execution_count": null,
      "outputs": []
    },
    {
      "cell_type": "code",
      "metadata": {
        "id": "uS3fQ78vqZ8W",
        "colab_type": "code",
        "colab": {}
      },
      "source": [
        "def pareja(mano):\n",
        "  valores=[]\n",
        "  for i in mano:\n",
        "    valores.append(i[0])\n",
        "  for i in valores:\n",
        "    if valores.count(i)==2:\n",
        "      return 'Pareja'\n",
        "  return 0\n",
        "\n"
      ],
      "execution_count": null,
      "outputs": []
    },
    {
      "cell_type": "code",
      "metadata": {
        "id": "cavaj-Rwje5N",
        "colab_type": "code",
        "colab": {
          "base_uri": "https://localhost:8080/",
          "height": 52
        },
        "outputId": "695d2166-a739-4f73-ed6a-f86170a715f9"
      },
      "source": [
        "mano=lee_valida(mano)\n",
        "print(mano)\n",
        " "
      ],
      "execution_count": null,
      "outputs": [
        {
          "output_type": "stream",
          "text": [
            "KC 5P 3T 5T 7D\n",
            "['KC', '5P', '3T', '5T', '7D']\n"
          ],
          "name": "stdout"
        }
      ]
    },
    {
      "cell_type": "code",
      "metadata": {
        "id": "dx-CioqJj62S",
        "colab_type": "code",
        "colab": {
          "base_uri": "https://localhost:8080/",
          "height": 35
        },
        "outputId": "61f1d22d-7ff1-485e-c8fc-c01754747009"
      },
      "source": [
        "result=poker(mano)\n",
        "if result==0:\n",
        "  result=escalera_real(mano)\n",
        "if result==0:\n",
        "  result=full(mano)\n",
        "if result==0:\n",
        "  result=color(mano)\n",
        "if result==0:\n",
        "  result=escalera_sucia(mano)\n",
        "if result==0:\n",
        "  result=trio(mano)\n",
        "if result==0:\n",
        "  result=doble_par(mano)\n",
        "if result==0:\n",
        "  result=pareja(mano)\n",
        "print(result)\n"
      ],
      "execution_count": null,
      "outputs": [
        {
          "output_type": "stream",
          "text": [
            "Pareja\n"
          ],
          "name": "stdout"
        }
      ]
    }
  ]
}