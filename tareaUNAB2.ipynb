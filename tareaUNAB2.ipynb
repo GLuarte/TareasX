{
  "nbformat": 4,
  "nbformat_minor": 0,
  "metadata": {
    "colab": {
      "name": "tareaUNAB2",
      "provenance": [],
      "authorship_tag": "ABX9TyN7T1ykDKSNTGWeXpdDzugT",
      "include_colab_link": true
    },
    "kernelspec": {
      "name": "python3",
      "display_name": "Python 3"
    }
  },
  "cells": [
    {
      "cell_type": "markdown",
      "metadata": {
        "id": "view-in-github",
        "colab_type": "text"
      },
      "source": [
        "<a href=\"https://colab.research.google.com/github/GLuarte/TareasX/blob/master/tareaUNAB2.ipynb\" target=\"_parent\"><img src=\"https://colab.research.google.com/assets/colab-badge.svg\" alt=\"Open In Colab\"/></a>"
      ]
    },
    {
      "cell_type": "code",
      "metadata": {
        "id": "qJqaaEaqwkxZ",
        "colab_type": "code",
        "colab": {}
      },
      "source": [
        "from random import randint\n",
        "import copy\n",
        "import sys"
      ],
      "execution_count": 2,
      "outputs": []
    },
    {
      "cell_type": "code",
      "metadata": {
        "id": "4rjKgyd_nl7Y",
        "colab_type": "code",
        "colab": {}
      },
      "source": [
        "abc=[]\n",
        "for i in range(65,91):\n",
        "  abc.append(chr(i))"
      ],
      "execution_count": 3,
      "outputs": []
    },
    {
      "cell_type": "code",
      "metadata": {
        "id": "J_DD7mlaBrtc",
        "colab_type": "code",
        "colab": {
          "base_uri": "https://localhost:8080/",
          "height": 52
        },
        "outputId": "5394cdd2-55dc-4682-ef51-1f3aa59cf201"
      },
      "source": [
        "print('Escoge una opción: (1) Generar tablero (2) Cargar tablero (3) Salir:')\n",
        "opc=int(input())"
      ],
      "execution_count": 4,
      "outputs": [
        {
          "output_type": "stream",
          "text": [
            "Escoge una opción: (1) Generar tablero (2) Cargar tablero (3) Salir:\n",
            "3\n"
          ],
          "name": "stdout"
        }
      ]
    },
    {
      "cell_type": "code",
      "metadata": {
        "id": "1lka4r60wbbF",
        "colab_type": "code",
        "colab": {}
      },
      "source": [
        "def opc_1(dif,abc,file2):  \n",
        "  difs=['F','M','D','X']\n",
        "\n",
        "  #dif=(str(input()))\n",
        "  dif=dif.upper()\n",
        "\n",
        "  ind=difs.index(dif)\n",
        "\n",
        "  porc=ind*5+10\n",
        "  if porc==25:\n",
        "    porc+=5\n",
        "  porc\n",
        "\n",
        "  n_minas=int((n**2)*(porc/100))\n",
        "  \n",
        "\n",
        "  x1=[]\n",
        "  for i in range(n_minas):\n",
        "    loc=abc[randint(0,len(abc[:n])-1)]+str(randint(1,n))\n",
        "    while loc in x1:\n",
        "      loc=abc[randint(0,len(abc[:n])-1)]+str(randint(1,n))\n",
        "\n",
        "    x1.append(loc)\n",
        "  for i in x1:\n",
        "    \n",
        "    #indx=abc.index(i[:1])+1\n",
        "    file2.write('\\n')\n",
        "    file2.write(i)\n",
        "    #tab_aux[indx][int(i[1:])]='*'\n",
        "  file2.close()   \n",
        "\n",
        "  return(x1)\n"
      ],
      "execution_count": 5,
      "outputs": []
    },
    {
      "cell_type": "code",
      "metadata": {
        "id": "ULR5dwUYK0f1",
        "colab_type": "code",
        "colab": {}
      },
      "source": [
        "def opc_2(file1):\n",
        "  x1=[]\n",
        "  for i in file1:\n",
        "    j=i\n",
        "    j=j.replace('\\n','')\n",
        "    x1.append(j)\n",
        "  return x1"
      ],
      "execution_count": 6,
      "outputs": []
    },
    {
      "cell_type": "code",
      "metadata": {
        "id": "0D4QJPpaCF9x",
        "colab_type": "code",
        "colab": {
          "base_uri": "https://localhost:8080/",
          "height": 150
        },
        "outputId": "c5b8a99c-c707-4cbe-9e10-afe14224a912"
      },
      "source": [
        "if opc==1:\n",
        "  print('Ingresa el nombre del archivo:')\n",
        "  fname=str(input())\n",
        "  file1=open(fname,'r')\n",
        "  fname2=fname.replace('.txt','SAL')\n",
        "  fname2+='.txt'\n",
        "  file2=open(fname2,'w+')\n",
        "  n=int(file1.readline())\n",
        "  file2.write(str(n))\n",
        "  dif=str(file1.readline())\n",
        "  x1=opc_1(dif,abc,file2)\n",
        "\n",
        "elif opc==2:\n",
        "  print('Ingresa el nombre del archivo:')\n",
        "  fname=str(input())\n",
        "  file1=open(fname,'r')\n",
        "  n=int(file1.readline())\n",
        "  x1=opc_2(file1)\n",
        "elif opc==3:\n",
        "  sys.exit()"
      ],
      "execution_count": 7,
      "outputs": [
        {
          "output_type": "error",
          "ename": "SystemExit",
          "evalue": "ignored",
          "traceback": [
            "An exception has occurred, use %tb to see the full traceback.\n",
            "\u001b[0;31mSystemExit\u001b[0m\n"
          ]
        },
        {
          "output_type": "stream",
          "text": [
            "/usr/local/lib/python3.6/dist-packages/IPython/core/interactiveshell.py:2890: UserWarning: To exit: use 'exit', 'quit', or Ctrl-D.\n",
            "  warn(\"To exit: use 'exit', 'quit', or Ctrl-D.\", stacklevel=1)\n"
          ],
          "name": "stderr"
        }
      ]
    },
    {
      "cell_type": "code",
      "metadata": {
        "id": "wdlP4Oivp1vs",
        "colab_type": "code",
        "colab": {}
      },
      "source": [
        "tab=[]\n",
        "#tab_aux=[]\n",
        "head=[]\n",
        "head.append(' ')\n",
        "for i in range(1,n+1):\n",
        "  head.append(str(i))\n",
        "tab.append(head)\n",
        "#tab_aux.append(head)\n",
        "\n",
        "for i in abc[:n]:\n",
        "  row=[]\n",
        "  row.append(i)\n",
        "  for j in range(n):\n",
        "    row.append('.')\n",
        "  tab.append(row)\n",
        "  #tab_aux.append(row)\n",
        "tab_aux=copy.deepcopy(tab)"
      ],
      "execution_count": null,
      "outputs": []
    },
    {
      "cell_type": "code",
      "metadata": {
        "id": "Gy-kS_x5Jjyv",
        "colab_type": "code",
        "colab": {}
      },
      "source": [
        "  for i in x1:\n",
        "    indx=abc.index(i[:1])+1\n",
        "    tab_aux[indx][int(i[1:])]='*' "
      ],
      "execution_count": null,
      "outputs": []
    },
    {
      "cell_type": "code",
      "metadata": {
        "id": "wvWGJS_80qlh",
        "colab_type": "code",
        "colab": {}
      },
      "source": [
        "for i in range (n+1): \n",
        "  for j in range(n+1):\n",
        "    if tab_aux[i][j]=='.':\n",
        "      tab_aux[i][j]=0"
      ],
      "execution_count": null,
      "outputs": []
    },
    {
      "cell_type": "code",
      "metadata": {
        "id": "jxwve-I505qp",
        "colab_type": "code",
        "colab": {}
      },
      "source": [
        "for i in range (1,n+1): \n",
        "  for j in range(1,n+1):\n",
        "    if(tab_aux[i][j]=='*'):\n",
        "      for k in range(i-1,i+2):\n",
        "        for l in range(j-1,j+2):\n",
        "          if(k<n+1 and l<n+1):\n",
        "            if(tab_aux[k][l]!='*' and isinstance(tab_aux[k][l],int)):\n",
        "              tab_aux[k][l]+=1"
      ],
      "execution_count": null,
      "outputs": []
    },
    {
      "cell_type": "code",
      "metadata": {
        "id": "AsaQxAlu1KWI",
        "colab_type": "code",
        "colab": {}
      },
      "source": [
        "m=len(x1)\n",
        "\"\"\"for i in range (n+1): \n",
        "      for j in range(n+1):\n",
        "        if tab_aux[i][j]=='*':\n",
        "          m+=1\"\"\""
      ],
      "execution_count": null,
      "outputs": []
    },
    {
      "cell_type": "code",
      "metadata": {
        "id": "0V0NxnkV2atq",
        "colab_type": "code",
        "colab": {}
      },
      "source": [
        "game=True\n",
        "win=True\n",
        "while(game==True and win==True):\n",
        "  i=str(input('Ingresa la casilla del tablero que quieres abrir '))\n",
        "  i=i.upper()\n",
        "  while i[:1] not in abc[:n] or i[1:] not in head:\n",
        "    i=str(input('Ingresa la casilla del tablero que quieres abrir '))\n",
        "    i=i.upper()\n",
        "  game=False\n",
        "  k=0\n",
        "  j=int(i[1:])\n",
        "  indx=abc.index(i[:1])+1\n",
        "  tab[indx][j]=tab_aux[indx][j]\n",
        "  if (tab[indx][j]=='*'):\n",
        "        win=False\n",
        "        game=False\n",
        "\n",
        "  if win==True:\n",
        "    for i in range (n+1): \n",
        "      for j in range(n+1):\n",
        "        print(tab[i][j],end='    ')\n",
        "      print('\\n')\n",
        "  for i in range (n+1): \n",
        "      for j in range(n+1):\n",
        "        if tab[i][j]=='.':\n",
        "          k+=1\n",
        "  if k==m:\n",
        "    game=False\n",
        "  elif k>0:\n",
        "    game=True  \n",
        "\n",
        "if win==False:\n",
        "  for i in range (n+1): \n",
        "    for j in range(n+1):\n",
        "      if(tab_aux[i][j]=='*'):\n",
        "        tab[i][j]=tab_aux[i][j]\n",
        "      print(tab[i][j],end='    ')\n",
        "    print('\\n')\n",
        "  print('PERDISTE')\n",
        "elif win==True:\n",
        "  print('GANASTE')\n",
        "\n"
      ],
      "execution_count": null,
      "outputs": []
    }
  ]
}