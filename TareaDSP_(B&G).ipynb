{
  "nbformat": 4,
  "nbformat_minor": 0,
  "metadata": {
    "colab": {
      "name": "TareaDSP (B&G)",
      "provenance": [],
      "collapsed_sections": [],
      "authorship_tag": "ABX9TyP2nIJLVlkMfxxlCVxWgktO",
      "include_colab_link": true
    },
    "kernelspec": {
      "name": "python3",
      "display_name": "Python 3"
    }
  },
  "cells": [
    {
      "cell_type": "markdown",
      "metadata": {
        "id": "view-in-github",
        "colab_type": "text"
      },
      "source": [
        "<a href=\"https://colab.research.google.com/github/GLuarte/TareasX/blob/master/TareaDSP_(B%26G).ipynb\" target=\"_parent\"><img src=\"https://colab.research.google.com/assets/colab-badge.svg\" alt=\"Open In Colab\"/></a>"
      ]
    },
    {
      "cell_type": "markdown",
      "metadata": {
        "id": "I8-YcCxdJvOf",
        "colab_type": "text"
      },
      "source": [
        "## DSP \n",
        "#### TAREA B&G"
      ]
    },
    {
      "cell_type": "code",
      "metadata": {
        "id": "yxnMUWn2TkzB",
        "colab_type": "code",
        "colab": {}
      },
      "source": [
        "import numpy as np\n",
        "import pandas as pd"
      ],
      "execution_count": 0,
      "outputs": []
    },
    {
      "cell_type": "code",
      "metadata": {
        "id": "oD4xeOkYZAcK",
        "colab_type": "code",
        "colab": {}
      },
      "source": [
        " def dataF_maker(src,ind,col,dataf,nc1,nc2): \n",
        "  dataf=pd.DataFrame(src,index=ind,columns=col)\n",
        "  sumas=[]\n",
        "  wi=[]\n",
        "  suma=0\n",
        "  for i in (dataf):\n",
        "    for j in (dataf):\n",
        "      suma+=dataf[j][i]\n",
        "    sumas.append(suma)\n",
        "    suma=0\n",
        "  for i in sumas:\n",
        "    wi.append(i/sum(sumas))\n",
        "\n",
        "  dataf.insert(3,nc1,sumas)\n",
        "  dataf.insert(4,nc2,wi)\n",
        "  return dataf"
      ],
      "execution_count": 0,
      "outputs": []
    },
    {
      "cell_type": "code",
      "metadata": {
        "id": "iNAlJpuuf8Ks",
        "colab_type": "code",
        "colab": {}
      },
      "source": [
        "url1='https://raw.githubusercontent.com/GLuarte/TareasX/master/DspCSV1.csv'"
      ],
      "execution_count": 0,
      "outputs": []
    },
    {
      "cell_type": "code",
      "metadata": {
        "id": "6sFB15b_f-QZ",
        "colab_type": "code",
        "colab": {
          "base_uri": "https://localhost:8080/",
          "height": 172
        },
        "outputId": "a9dbb068-fdc0-4299-85b5-171431096f1b"
      },
      "source": [
        "dc=pd.read_csv(url1,index_col=0)\n",
        "\n",
        "dc"
      ],
      "execution_count": 4,
      "outputs": [
        {
          "output_type": "execute_result",
          "data": {
            "text/html": [
              "<div>\n",
              "<style scoped>\n",
              "    .dataframe tbody tr th:only-of-type {\n",
              "        vertical-align: middle;\n",
              "    }\n",
              "\n",
              "    .dataframe tbody tr th {\n",
              "        vertical-align: top;\n",
              "    }\n",
              "\n",
              "    .dataframe thead th {\n",
              "        text-align: right;\n",
              "    }\n",
              "</style>\n",
              "<table border=\"1\" class=\"dataframe\">\n",
              "  <thead>\n",
              "    <tr style=\"text-align: right;\">\n",
              "      <th></th>\n",
              "      <th>Mano de obra</th>\n",
              "      <th>Materia prima</th>\n",
              "      <th>Transporte</th>\n",
              "      <th>Distribucion</th>\n",
              "      <th>Gastos Generales</th>\n",
              "    </tr>\n",
              "    <tr>\n",
              "      <th>Loc</th>\n",
              "      <th></th>\n",
              "      <th></th>\n",
              "      <th></th>\n",
              "      <th></th>\n",
              "      <th></th>\n",
              "    </tr>\n",
              "  </thead>\n",
              "  <tbody>\n",
              "    <tr>\n",
              "      <th>A</th>\n",
              "      <td>100</td>\n",
              "      <td>50</td>\n",
              "      <td>45</td>\n",
              "      <td>50</td>\n",
              "      <td>100</td>\n",
              "    </tr>\n",
              "    <tr>\n",
              "      <th>B</th>\n",
              "      <td>50</td>\n",
              "      <td>55</td>\n",
              "      <td>75</td>\n",
              "      <td>60</td>\n",
              "      <td>100</td>\n",
              "    </tr>\n",
              "    <tr>\n",
              "      <th>C</th>\n",
              "      <td>75</td>\n",
              "      <td>45</td>\n",
              "      <td>35</td>\n",
              "      <td>50</td>\n",
              "      <td>100</td>\n",
              "    </tr>\n",
              "  </tbody>\n",
              "</table>\n",
              "</div>"
            ],
            "text/plain": [
              "     Mano de obra  Materia prima  Transporte  Distribucion  Gastos Generales\n",
              "Loc                                                                         \n",
              "A             100             50          45            50               100\n",
              "B              50             55          75            60               100\n",
              "C              75             45          35            50               100"
            ]
          },
          "metadata": {
            "tags": []
          },
          "execution_count": 4
        }
      ]
    },
    {
      "cell_type": "code",
      "metadata": {
        "id": "Bf4q5d3-mMiz",
        "colab_type": "code",
        "colab": {
          "base_uri": "https://localhost:8080/",
          "height": 172
        },
        "outputId": "52868d36-d482-4ddd-fe0b-138e53903397"
      },
      "source": [
        "suma1=[]\n",
        "wi=[]\n",
        "suma=0\n",
        "for j in dc.index:\n",
        "  for i in dc:\n",
        "    suma+=dc[i][j]\n",
        "  suma1.append(suma)\n",
        "  suma=0\n",
        "dc.insert(5,'Ci',suma1)\n",
        "for i in suma1:\n",
        "  wi.append(1/i)\n",
        "suma=sum(wi)\n",
        "suma1.clear()\n",
        "for i in wi:\n",
        "  suma1.append(i/suma)\n",
        "\n",
        "dc.insert(6,'1/C',wi)\n",
        "dc.insert(7,'FO',suma1)\n",
        "dc"
      ],
      "execution_count": 5,
      "outputs": [
        {
          "output_type": "execute_result",
          "data": {
            "text/html": [
              "<div>\n",
              "<style scoped>\n",
              "    .dataframe tbody tr th:only-of-type {\n",
              "        vertical-align: middle;\n",
              "    }\n",
              "\n",
              "    .dataframe tbody tr th {\n",
              "        vertical-align: top;\n",
              "    }\n",
              "\n",
              "    .dataframe thead th {\n",
              "        text-align: right;\n",
              "    }\n",
              "</style>\n",
              "<table border=\"1\" class=\"dataframe\">\n",
              "  <thead>\n",
              "    <tr style=\"text-align: right;\">\n",
              "      <th></th>\n",
              "      <th>Mano de obra</th>\n",
              "      <th>Materia prima</th>\n",
              "      <th>Transporte</th>\n",
              "      <th>Distribucion</th>\n",
              "      <th>Gastos Generales</th>\n",
              "      <th>Ci</th>\n",
              "      <th>1/C</th>\n",
              "      <th>FO</th>\n",
              "    </tr>\n",
              "    <tr>\n",
              "      <th>Loc</th>\n",
              "      <th></th>\n",
              "      <th></th>\n",
              "      <th></th>\n",
              "      <th></th>\n",
              "      <th></th>\n",
              "      <th></th>\n",
              "      <th></th>\n",
              "      <th></th>\n",
              "    </tr>\n",
              "  </thead>\n",
              "  <tbody>\n",
              "    <tr>\n",
              "      <th>A</th>\n",
              "      <td>100</td>\n",
              "      <td>50</td>\n",
              "      <td>45</td>\n",
              "      <td>50</td>\n",
              "      <td>100</td>\n",
              "      <td>345</td>\n",
              "      <td>0.002899</td>\n",
              "      <td>0.317879</td>\n",
              "    </tr>\n",
              "    <tr>\n",
              "      <th>B</th>\n",
              "      <td>50</td>\n",
              "      <td>55</td>\n",
              "      <td>75</td>\n",
              "      <td>60</td>\n",
              "      <td>100</td>\n",
              "      <td>340</td>\n",
              "      <td>0.002941</td>\n",
              "      <td>0.322553</td>\n",
              "    </tr>\n",
              "    <tr>\n",
              "      <th>C</th>\n",
              "      <td>75</td>\n",
              "      <td>45</td>\n",
              "      <td>35</td>\n",
              "      <td>50</td>\n",
              "      <td>100</td>\n",
              "      <td>305</td>\n",
              "      <td>0.003279</td>\n",
              "      <td>0.359568</td>\n",
              "    </tr>\n",
              "  </tbody>\n",
              "</table>\n",
              "</div>"
            ],
            "text/plain": [
              "     Mano de obra  Materia prima  Transporte  ...   Ci       1/C        FO\n",
              "Loc                                           ...                         \n",
              "A             100             50          45  ...  345  0.002899  0.317879\n",
              "B              50             55          75  ...  340  0.002941  0.322553\n",
              "C              75             45          35  ...  305  0.003279  0.359568\n",
              "\n",
              "[3 rows x 8 columns]"
            ]
          },
          "metadata": {
            "tags": []
          },
          "execution_count": 5
        }
      ]
    },
    {
      "cell_type": "code",
      "metadata": {
        "id": "AWh2dVt0Jtgc",
        "colab_type": "code",
        "colab": {}
      },
      "source": [
        "factS=np.array([[0,1,1],[0,0,1],[1,0,0]])\n",
        "cpMA=np.array([[0,1,0],[1,0,0],[1,1,0]])\n",
        "cpDS=np.array([[0,1,1],[1,0,1],[1,1,0]])\n",
        "cpIV=np.array([[0,1,0],[1,0,1],[1,0,0]])"
      ],
      "execution_count": 0,
      "outputs": []
    },
    {
      "cell_type": "code",
      "metadata": {
        "id": "hQ0y5gx0UC4r",
        "colab_type": "code",
        "colab": {}
      },
      "source": [
        "c=['AM','DS','IV']\n",
        "loc=['A','B','C']"
      ],
      "execution_count": 0,
      "outputs": []
    },
    {
      "cell_type": "code",
      "metadata": {
        "id": "BLToI824dVxI",
        "colab_type": "code",
        "colab": {
          "base_uri": "https://localhost:8080/",
          "height": 141
        },
        "outputId": "206c70e1-5fcb-48ff-d52e-68f37f7ff5da"
      },
      "source": [
        "dfactS=pd.DataFrame()\n",
        "dfactS=dataF_maker(factS,c,c,dfactS,'suma prefe','Wi')\n",
        "dfactS"
      ],
      "execution_count": 8,
      "outputs": [
        {
          "output_type": "execute_result",
          "data": {
            "text/html": [
              "<div>\n",
              "<style scoped>\n",
              "    .dataframe tbody tr th:only-of-type {\n",
              "        vertical-align: middle;\n",
              "    }\n",
              "\n",
              "    .dataframe tbody tr th {\n",
              "        vertical-align: top;\n",
              "    }\n",
              "\n",
              "    .dataframe thead th {\n",
              "        text-align: right;\n",
              "    }\n",
              "</style>\n",
              "<table border=\"1\" class=\"dataframe\">\n",
              "  <thead>\n",
              "    <tr style=\"text-align: right;\">\n",
              "      <th></th>\n",
              "      <th>AM</th>\n",
              "      <th>DS</th>\n",
              "      <th>IV</th>\n",
              "      <th>suma prefe</th>\n",
              "      <th>Wi</th>\n",
              "    </tr>\n",
              "  </thead>\n",
              "  <tbody>\n",
              "    <tr>\n",
              "      <th>AM</th>\n",
              "      <td>0</td>\n",
              "      <td>1</td>\n",
              "      <td>1</td>\n",
              "      <td>2</td>\n",
              "      <td>0.50</td>\n",
              "    </tr>\n",
              "    <tr>\n",
              "      <th>DS</th>\n",
              "      <td>0</td>\n",
              "      <td>0</td>\n",
              "      <td>1</td>\n",
              "      <td>1</td>\n",
              "      <td>0.25</td>\n",
              "    </tr>\n",
              "    <tr>\n",
              "      <th>IV</th>\n",
              "      <td>1</td>\n",
              "      <td>0</td>\n",
              "      <td>0</td>\n",
              "      <td>1</td>\n",
              "      <td>0.25</td>\n",
              "    </tr>\n",
              "  </tbody>\n",
              "</table>\n",
              "</div>"
            ],
            "text/plain": [
              "    AM  DS  IV  suma prefe    Wi\n",
              "AM   0   1   1           2  0.50\n",
              "DS   0   0   1           1  0.25\n",
              "IV   1   0   0           1  0.25"
            ]
          },
          "metadata": {
            "tags": []
          },
          "execution_count": 8
        }
      ]
    },
    {
      "cell_type": "code",
      "metadata": {
        "id": "vt873lQRb27H",
        "colab_type": "code",
        "colab": {
          "base_uri": "https://localhost:8080/",
          "height": 141
        },
        "outputId": "acb021e7-71e5-4475-bfa5-c0fd70a2b725"
      },
      "source": [
        "dcpMA=pd.DataFrame()\n",
        "dcpMA=dataF_maker(cpMA,loc,loc,dcpMA,'suma','R1')\n",
        "dcpMA"
      ],
      "execution_count": 9,
      "outputs": [
        {
          "output_type": "execute_result",
          "data": {
            "text/html": [
              "<div>\n",
              "<style scoped>\n",
              "    .dataframe tbody tr th:only-of-type {\n",
              "        vertical-align: middle;\n",
              "    }\n",
              "\n",
              "    .dataframe tbody tr th {\n",
              "        vertical-align: top;\n",
              "    }\n",
              "\n",
              "    .dataframe thead th {\n",
              "        text-align: right;\n",
              "    }\n",
              "</style>\n",
              "<table border=\"1\" class=\"dataframe\">\n",
              "  <thead>\n",
              "    <tr style=\"text-align: right;\">\n",
              "      <th></th>\n",
              "      <th>A</th>\n",
              "      <th>B</th>\n",
              "      <th>C</th>\n",
              "      <th>suma</th>\n",
              "      <th>R1</th>\n",
              "    </tr>\n",
              "  </thead>\n",
              "  <tbody>\n",
              "    <tr>\n",
              "      <th>A</th>\n",
              "      <td>0</td>\n",
              "      <td>1</td>\n",
              "      <td>0</td>\n",
              "      <td>1</td>\n",
              "      <td>0.25</td>\n",
              "    </tr>\n",
              "    <tr>\n",
              "      <th>B</th>\n",
              "      <td>1</td>\n",
              "      <td>0</td>\n",
              "      <td>0</td>\n",
              "      <td>1</td>\n",
              "      <td>0.25</td>\n",
              "    </tr>\n",
              "    <tr>\n",
              "      <th>C</th>\n",
              "      <td>1</td>\n",
              "      <td>1</td>\n",
              "      <td>0</td>\n",
              "      <td>2</td>\n",
              "      <td>0.50</td>\n",
              "    </tr>\n",
              "  </tbody>\n",
              "</table>\n",
              "</div>"
            ],
            "text/plain": [
              "   A  B  C  suma    R1\n",
              "A  0  1  0     1  0.25\n",
              "B  1  0  0     1  0.25\n",
              "C  1  1  0     2  0.50"
            ]
          },
          "metadata": {
            "tags": []
          },
          "execution_count": 9
        }
      ]
    },
    {
      "cell_type": "code",
      "metadata": {
        "id": "6TNVgJtHcjDa",
        "colab_type": "code",
        "colab": {
          "base_uri": "https://localhost:8080/",
          "height": 134
        },
        "outputId": "758b27a5-0c44-4ca8-a659-ccfad1c89cb6"
      },
      "source": [
        "dcpDS=pd.DataFrame()\n",
        "dcpDS=dataF_maker(cpDS,loc,loc,dcpDS,'suma','R2')\n",
        "dcpDS"
      ],
      "execution_count": 10,
      "outputs": [
        {
          "output_type": "execute_result",
          "data": {
            "text/html": [
              "<div>\n",
              "<style scoped>\n",
              "    .dataframe tbody tr th:only-of-type {\n",
              "        vertical-align: middle;\n",
              "    }\n",
              "\n",
              "    .dataframe tbody tr th {\n",
              "        vertical-align: top;\n",
              "    }\n",
              "\n",
              "    .dataframe thead th {\n",
              "        text-align: right;\n",
              "    }\n",
              "</style>\n",
              "<table border=\"1\" class=\"dataframe\">\n",
              "  <thead>\n",
              "    <tr style=\"text-align: right;\">\n",
              "      <th></th>\n",
              "      <th>A</th>\n",
              "      <th>B</th>\n",
              "      <th>C</th>\n",
              "      <th>suma</th>\n",
              "      <th>R2</th>\n",
              "    </tr>\n",
              "  </thead>\n",
              "  <tbody>\n",
              "    <tr>\n",
              "      <th>A</th>\n",
              "      <td>0</td>\n",
              "      <td>1</td>\n",
              "      <td>1</td>\n",
              "      <td>2</td>\n",
              "      <td>0.333333</td>\n",
              "    </tr>\n",
              "    <tr>\n",
              "      <th>B</th>\n",
              "      <td>1</td>\n",
              "      <td>0</td>\n",
              "      <td>1</td>\n",
              "      <td>2</td>\n",
              "      <td>0.333333</td>\n",
              "    </tr>\n",
              "    <tr>\n",
              "      <th>C</th>\n",
              "      <td>1</td>\n",
              "      <td>1</td>\n",
              "      <td>0</td>\n",
              "      <td>2</td>\n",
              "      <td>0.333333</td>\n",
              "    </tr>\n",
              "  </tbody>\n",
              "</table>\n",
              "</div>"
            ],
            "text/plain": [
              "   A  B  C  suma        R2\n",
              "A  0  1  1     2  0.333333\n",
              "B  1  0  1     2  0.333333\n",
              "C  1  1  0     2  0.333333"
            ]
          },
          "metadata": {
            "tags": []
          },
          "execution_count": 10
        }
      ]
    },
    {
      "cell_type": "code",
      "metadata": {
        "id": "jflMjeWhaOzp",
        "colab_type": "code",
        "colab": {
          "base_uri": "https://localhost:8080/",
          "height": 134
        },
        "outputId": "ca1e95f2-9a4d-4f57-c1ce-1701734850f6"
      },
      "source": [
        "dcpIV=pd.DataFrame()\n",
        "dcpIV=dataF_maker(cpIV,loc,loc,dcpIV,'suma','R3')\n",
        "dcpIV"
      ],
      "execution_count": 11,
      "outputs": [
        {
          "output_type": "execute_result",
          "data": {
            "text/html": [
              "<div>\n",
              "<style scoped>\n",
              "    .dataframe tbody tr th:only-of-type {\n",
              "        vertical-align: middle;\n",
              "    }\n",
              "\n",
              "    .dataframe tbody tr th {\n",
              "        vertical-align: top;\n",
              "    }\n",
              "\n",
              "    .dataframe thead th {\n",
              "        text-align: right;\n",
              "    }\n",
              "</style>\n",
              "<table border=\"1\" class=\"dataframe\">\n",
              "  <thead>\n",
              "    <tr style=\"text-align: right;\">\n",
              "      <th></th>\n",
              "      <th>A</th>\n",
              "      <th>B</th>\n",
              "      <th>C</th>\n",
              "      <th>suma</th>\n",
              "      <th>R3</th>\n",
              "    </tr>\n",
              "  </thead>\n",
              "  <tbody>\n",
              "    <tr>\n",
              "      <th>A</th>\n",
              "      <td>0</td>\n",
              "      <td>1</td>\n",
              "      <td>0</td>\n",
              "      <td>1</td>\n",
              "      <td>0.25</td>\n",
              "    </tr>\n",
              "    <tr>\n",
              "      <th>B</th>\n",
              "      <td>1</td>\n",
              "      <td>0</td>\n",
              "      <td>1</td>\n",
              "      <td>2</td>\n",
              "      <td>0.50</td>\n",
              "    </tr>\n",
              "    <tr>\n",
              "      <th>C</th>\n",
              "      <td>1</td>\n",
              "      <td>0</td>\n",
              "      <td>0</td>\n",
              "      <td>1</td>\n",
              "      <td>0.25</td>\n",
              "    </tr>\n",
              "  </tbody>\n",
              "</table>\n",
              "</div>"
            ],
            "text/plain": [
              "   A  B  C  suma    R3\n",
              "A  0  1  0     1  0.25\n",
              "B  1  0  1     2  0.50\n",
              "C  1  0  0     1  0.25"
            ]
          },
          "metadata": {
            "tags": []
          },
          "execution_count": 11
        }
      ]
    },
    {
      "cell_type": "code",
      "metadata": {
        "id": "6DEuEjR1tN_K",
        "colab_type": "code",
        "colab": {
          "base_uri": "https://localhost:8080/",
          "height": 134
        },
        "outputId": "e5f5be06-8706-493c-d46c-1c1db563dbef"
      },
      "source": [
        "Fsi=[]\n",
        "dFsi=pd.DataFrame()\n",
        "dFsi.insert(0,'R1',dcpMA['R1'])\n",
        "dFsi.insert(1,'W-MA',dfactS['Wi']['AM'])\n",
        "dFsi.insert(2,'R2',dcpDS['R2'])\n",
        "dFsi.insert(3,'W-DS',dfactS['Wi']['DS'])\n",
        "dFsi.insert(4,'R3',dcpIV['R3'])\n",
        "dFsi.insert(5,'W-IV',dfactS['Wi']['IV'])\n",
        "for i in dFsi.index:\n",
        "  Fsi.append(dFsi['R1'][i]*dFsi['W-MA'][i] + dFsi['R2'][i]*dFsi['W-DS'][i] + dFsi['R3'][i]*dFsi['W-IV'][i])\n",
        "dFsi.insert(6,'Fsi',Fsi)\n",
        "dFsi"
      ],
      "execution_count": 12,
      "outputs": [
        {
          "output_type": "execute_result",
          "data": {
            "text/html": [
              "<div>\n",
              "<style scoped>\n",
              "    .dataframe tbody tr th:only-of-type {\n",
              "        vertical-align: middle;\n",
              "    }\n",
              "\n",
              "    .dataframe tbody tr th {\n",
              "        vertical-align: top;\n",
              "    }\n",
              "\n",
              "    .dataframe thead th {\n",
              "        text-align: right;\n",
              "    }\n",
              "</style>\n",
              "<table border=\"1\" class=\"dataframe\">\n",
              "  <thead>\n",
              "    <tr style=\"text-align: right;\">\n",
              "      <th></th>\n",
              "      <th>R1</th>\n",
              "      <th>W-MA</th>\n",
              "      <th>R2</th>\n",
              "      <th>W-DS</th>\n",
              "      <th>R3</th>\n",
              "      <th>W-IV</th>\n",
              "      <th>Fsi</th>\n",
              "    </tr>\n",
              "  </thead>\n",
              "  <tbody>\n",
              "    <tr>\n",
              "      <th>A</th>\n",
              "      <td>0.25</td>\n",
              "      <td>0.5</td>\n",
              "      <td>0.333333</td>\n",
              "      <td>0.25</td>\n",
              "      <td>0.25</td>\n",
              "      <td>0.25</td>\n",
              "      <td>0.270833</td>\n",
              "    </tr>\n",
              "    <tr>\n",
              "      <th>B</th>\n",
              "      <td>0.25</td>\n",
              "      <td>0.5</td>\n",
              "      <td>0.333333</td>\n",
              "      <td>0.25</td>\n",
              "      <td>0.50</td>\n",
              "      <td>0.25</td>\n",
              "      <td>0.333333</td>\n",
              "    </tr>\n",
              "    <tr>\n",
              "      <th>C</th>\n",
              "      <td>0.50</td>\n",
              "      <td>0.5</td>\n",
              "      <td>0.333333</td>\n",
              "      <td>0.25</td>\n",
              "      <td>0.25</td>\n",
              "      <td>0.25</td>\n",
              "      <td>0.395833</td>\n",
              "    </tr>\n",
              "  </tbody>\n",
              "</table>\n",
              "</div>"
            ],
            "text/plain": [
              "     R1  W-MA        R2  W-DS    R3  W-IV       Fsi\n",
              "A  0.25   0.5  0.333333  0.25  0.25  0.25  0.270833\n",
              "B  0.25   0.5  0.333333  0.25  0.50  0.25  0.333333\n",
              "C  0.50   0.5  0.333333  0.25  0.25  0.25  0.395833"
            ]
          },
          "metadata": {
            "tags": []
          },
          "execution_count": 12
        }
      ]
    },
    {
      "cell_type": "code",
      "metadata": {
        "id": "l0et34gkydSt",
        "colab_type": "code",
        "colab": {
          "base_uri": "https://localhost:8080/",
          "height": 33
        },
        "outputId": "8b894c7d-5155-4d0f-f5da-268d4829781e"
      },
      "source": [
        "k = float(input())\n",
        "while k<0 and k>1:\n",
        "  k = float(input())"
      ],
      "execution_count": 13,
      "outputs": [
        {
          "output_type": "stream",
          "text": [
            ".9\n"
          ],
          "name": "stdout"
        }
      ]
    },
    {
      "cell_type": "code",
      "metadata": {
        "id": "FED6wzEtyq-q",
        "colab_type": "code",
        "colab": {
          "base_uri": "https://localhost:8080/",
          "height": 134
        },
        "outputId": "956eab2a-b408-42d7-e1d5-3049c7a498d9"
      },
      "source": [
        "Fsi.clear()\n",
        "dMPL=pd.DataFrame(index=loc)\n",
        "dMPL.insert(0,'k',k)\n",
        "dMPL.insert(1,'FO',dc['FO'])\n",
        "dMPL.insert(2,'1-k',1-k)\n",
        "dMPL.insert(3,'FS',dFsi['Fsi'])\n",
        "for i in dMPL.index:\n",
        "  Fsi.append(dMPL['k'][i]*dMPL['FO'][i] + dMPL['1-k'][i]*dMPL['FS'][i])\n",
        "dMPL.insert(4,'MPL',Fsi)\n",
        "dMPL"
      ],
      "execution_count": 14,
      "outputs": [
        {
          "output_type": "execute_result",
          "data": {
            "text/html": [
              "<div>\n",
              "<style scoped>\n",
              "    .dataframe tbody tr th:only-of-type {\n",
              "        vertical-align: middle;\n",
              "    }\n",
              "\n",
              "    .dataframe tbody tr th {\n",
              "        vertical-align: top;\n",
              "    }\n",
              "\n",
              "    .dataframe thead th {\n",
              "        text-align: right;\n",
              "    }\n",
              "</style>\n",
              "<table border=\"1\" class=\"dataframe\">\n",
              "  <thead>\n",
              "    <tr style=\"text-align: right;\">\n",
              "      <th></th>\n",
              "      <th>k</th>\n",
              "      <th>FO</th>\n",
              "      <th>1-k</th>\n",
              "      <th>FS</th>\n",
              "      <th>MPL</th>\n",
              "    </tr>\n",
              "  </thead>\n",
              "  <tbody>\n",
              "    <tr>\n",
              "      <th>A</th>\n",
              "      <td>0.9</td>\n",
              "      <td>0.317879</td>\n",
              "      <td>0.1</td>\n",
              "      <td>0.270833</td>\n",
              "      <td>0.313174</td>\n",
              "    </tr>\n",
              "    <tr>\n",
              "      <th>B</th>\n",
              "      <td>0.9</td>\n",
              "      <td>0.322553</td>\n",
              "      <td>0.1</td>\n",
              "      <td>0.333333</td>\n",
              "      <td>0.323631</td>\n",
              "    </tr>\n",
              "    <tr>\n",
              "      <th>C</th>\n",
              "      <td>0.9</td>\n",
              "      <td>0.359568</td>\n",
              "      <td>0.1</td>\n",
              "      <td>0.395833</td>\n",
              "      <td>0.363194</td>\n",
              "    </tr>\n",
              "  </tbody>\n",
              "</table>\n",
              "</div>"
            ],
            "text/plain": [
              "     k        FO  1-k        FS       MPL\n",
              "A  0.9  0.317879  0.1  0.270833  0.313174\n",
              "B  0.9  0.322553  0.1  0.333333  0.323631\n",
              "C  0.9  0.359568  0.1  0.395833  0.363194"
            ]
          },
          "metadata": {
            "tags": []
          },
          "execution_count": 14
        }
      ]
    }
  ]
}